{
 "cells": [
  {
   "attachments": {},
   "cell_type": "markdown",
   "metadata": {},
   "source": [
    "### Ejercicio 1: Lists<br>\n",
    "N = numero de comandos<br>\n",
    "ejemplo:<br>\n",
    "N= 3<br>\n",
    "append 1<br>\n",
    "append 2<br>\n",
    "insert 1 3<br>\n",
    "print\n"
   ]
  },
  {
   "cell_type": "code",
   "execution_count": 13,
   "metadata": {},
   "outputs": [
    {
     "name": "stdout",
     "output_type": "stream",
     "text": [
      "[1, 2, 1]\n"
     ]
    }
   ],
   "source": [
    "N = int(input())\n",
    "lista = []\n",
    "for i in range(N):\n",
    "    a = input()\n",
    "    alist = a.split(' ')\n",
    "\n",
    "    if alist[0] == 'insert':\n",
    "        lista.insert(int(alist[1]), int(alist[2]))\n",
    "\n",
    "    elif alist[0] == 'print':\n",
    "        print(lista)\n",
    "    \n",
    "    elif alist[0] == 'remove':\n",
    "        lista.remove(int(alist[1]))\n",
    "    \n",
    "    elif alist[0] == 'append':\n",
    "        lista.append(int(alist[1]))\n",
    "    \n",
    "    elif alist[0] == 'sort':\n",
    "        lista = sorted(lista)\n",
    "\n",
    "    elif alist[0]== 'pop':\n",
    "        lista.pop()\n",
    "\n",
    "    elif alist[0] == 'reverse':\n",
    "        lista.reverse()\n"
   ]
  },
  {
   "attachments": {},
   "cell_type": "markdown",
   "metadata": {},
   "source": [
    "### Ejercicio 2: finding the percentage<br>\n",
    "ejemplo:<br>\n",
    "3<br>\n",
    "Krishna 67 68 69<br>\n",
    "Arjun 70 98 63<br>\n",
    "Malika 52 56 60<br>\n",
    "Malika"
   ]
  },
  {
   "cell_type": "code",
   "execution_count": 11,
   "metadata": {},
   "outputs": [
    {
     "name": "stdout",
     "output_type": "stream",
     "text": [
      "26.50\n"
     ]
    }
   ],
   "source": [
    "n = int(input())\n",
    "student_marks = {}\n",
    "for _ in range(n):\n",
    "    name, *line = input().split()\n",
    "    scores = list(map(float, line))\n",
    "    student_marks[name] = scores\n",
    "query_name = input()\n",
    "print(format(sum(student_marks[query_name])/len(student_marks  [query_name]), '.2f'))\n"
   ]
  },
  {
   "attachments": {},
   "cell_type": "markdown",
   "metadata": {},
   "source": [
    "### Ejercicio 3: tuples, function hash()"
   ]
  },
  {
   "cell_type": "code",
   "execution_count": 38,
   "metadata": {},
   "outputs": [
    {
     "name": "stdout",
     "output_type": "stream",
     "text": [
      "-3550055125485641917\n"
     ]
    }
   ],
   "source": [
    "t = 2\n",
    "n = '1 2'\n",
    "lista_nums=[]\n",
    "lista = n.split(' ')\n",
    "\n",
    "for nums in lista:\n",
    "       lista_nums.append(int(nums))\n",
    "\n",
    "tupla = tuple(lista_nums)\n",
    "    \n",
    "print(hash(tupla))\n"
   ]
  },
  {
   "attachments": {},
   "cell_type": "markdown",
   "metadata": {},
   "source": [
    "### Ejercicio 4: SwAp CaSe, pasar de mayuscula a minuscula"
   ]
  },
  {
   "cell_type": "code",
   "execution_count": 43,
   "metadata": {},
   "outputs": [
    {
     "name": "stdout",
     "output_type": "stream",
     "text": [
      "jAvIErA\n"
     ]
    }
   ],
   "source": [
    "def swap_case(s):\n",
    "    s = s.swapcase()\n",
    "    return s\n",
    "\n",
    "if __name__ == '__main__':\n",
    "    s = input()\n",
    "    result = swap_case(s)\n",
    "    print(result)"
   ]
  },
  {
   "attachments": {},
   "cell_type": "markdown",
   "metadata": {},
   "source": [
    "### Ejercicio 5: String split and join\n",
    "\"this is a string\"   pasarlo a \"this-is-a-string \"  "
   ]
  },
  {
   "cell_type": "code",
   "execution_count": 44,
   "metadata": {},
   "outputs": [
    {
     "name": "stdout",
     "output_type": "stream",
     "text": [
      "hola-mundo\n"
     ]
    }
   ],
   "source": [
    "def split_and_join(line):\n",
    "    # write your code here\n",
    "    a = line.split(' ')\n",
    "    a = '-'.join(a)\n",
    "    return a\n",
    "\n",
    "if __name__ == '__main__':\n",
    "    line = input()\n",
    "    result = split_and_join(line)\n",
    "    print(result)"
   ]
  },
  {
   "attachments": {},
   "cell_type": "markdown",
   "metadata": {},
   "source": [
    "### Ejercicio 6: find a string\n",
    "Contar cuantas veces aparece una palabra en un string"
   ]
  },
  {
   "cell_type": "code",
   "execution_count": 43,
   "metadata": {},
   "outputs": [
    {
     "name": "stdout",
     "output_type": "stream",
     "text": [
      "La palabra CDC aparece 4 veces.\n"
     ]
    }
   ],
   "source": [
    "string = 'ABCDCDCHCDCCDC'\n",
    "sub_string = 'CDC'\n",
    "\n",
    "count = 0\n",
    "for i, p in enumerate(string):\n",
    "    if p == sub_string[0]:\n",
    "        if string[i : len(sub_string) + i] == sub_string:\n",
    "            count = count + 1\n",
    "print(f\"La palabra {sub_string} aparece {count} veces.\")"
   ]
  },
  {
   "attachments": {},
   "cell_type": "markdown",
   "metadata": {},
   "source": [
    "### Ejercicio 7: String Validators.\n",
    "str.isalnum() (a-z, A-Z, 0-9)<br>\n",
    "str.isalpha() (a-z, A-Z)<br> \n",
    "str.isdigit() (0-9)<br>\n",
    "str.islower() (a-z)<br>\n",
    "str.isupper() (A-Z)\n"
   ]
  },
  {
   "cell_type": "code",
   "execution_count": 98,
   "metadata": {},
   "outputs": [
    {
     "name": "stdout",
     "output_type": "stream",
     "text": [
      "True\n",
      "True\n",
      "True\n",
      "True\n",
      "True\n"
     ]
    }
   ],
   "source": [
    "s = 'qA2'\n",
    "for i in range(0, len(s)):\n",
    "    if s[i].isalnum():\n",
    "        print(True)\n",
    "        break\n",
    "    if i == len(s) - 1:\n",
    "        print(False) \n",
    "\n",
    "for i in range(0, len(s)):\n",
    "    if s[i].isalpha():\n",
    "        print(True)\n",
    "        break\n",
    "    if i == len(s) - 1:\n",
    "        print(False) \n",
    "\n",
    "for i in range(0, len(s)):\n",
    "    if s[i].isdigit():\n",
    "        print(True)\n",
    "        break\n",
    "    if i == len(s) - 1:\n",
    "        print(False) \n",
    "\n",
    "for i in range(0, len(s)):\n",
    "    if s[i].islower():\n",
    "        print(True)\n",
    "        break\n",
    "    if i == len(s) - 1:\n",
    "        print(False) \n",
    "\n",
    "for i in range(0, len(s)):\n",
    "    if s[i].isupper():\n",
    "        print(True)\n",
    "        break\n",
    "    if i == len(s) - 1:\n",
    "        print(False) \n",
    "    "
   ]
  },
  {
   "attachments": {},
   "cell_type": "markdown",
   "metadata": {},
   "source": [
    "### Ejercicio 8: Text Alignment"
   ]
  },
  {
   "attachments": {},
   "cell_type": "markdown",
   "metadata": {},
   "source": [
    ".ljust(ancho)\n",
    "\n",
    "Este método devuelve una cadena alineada a la izquierda de longitud ancho ."
   ]
  },
  {
   "cell_type": "code",
   "execution_count": 1,
   "metadata": {},
   "outputs": [
    {
     "name": "stdout",
     "output_type": "stream",
     "text": [
      "HackerRank----------\n"
     ]
    }
   ],
   "source": [
    "width = 20\n",
    "print ('HackerRank'.ljust(width,'-'))"
   ]
  },
  {
   "attachments": {},
   "cell_type": "markdown",
   "metadata": {},
   "source": [
    ".center(ancho)\n",
    "\n",
    "Este método devuelve una cadena centrada de longitud ancho ."
   ]
  },
  {
   "cell_type": "code",
   "execution_count": 2,
   "metadata": {},
   "outputs": [
    {
     "name": "stdout",
     "output_type": "stream",
     "text": [
      "-----HackerRank-----\n"
     ]
    }
   ],
   "source": [
    "width = 20\n",
    "print ('HackerRank'.center(width,'-'))"
   ]
  },
  {
   "attachments": {},
   "cell_type": "markdown",
   "metadata": {},
   "source": [
    ".rjust(ancho)\n",
    "\n",
    "Este método devuelve una cadena alineada a la derecha de longitud ancho ."
   ]
  },
  {
   "cell_type": "code",
   "execution_count": 6,
   "metadata": {},
   "outputs": [
    {
     "name": "stdout",
     "output_type": "stream",
     "text": [
      "----------HackerRank\n"
     ]
    }
   ],
   "source": [
    "width = 20\n",
    "print ('HackerRank'.rjust(width,'-'))"
   ]
  },
  {
   "cell_type": "code",
   "execution_count": 55,
   "metadata": {},
   "outputs": [
    {
     "name": "stdout",
     "output_type": "stream",
     "text": [
      "    H    \n",
      "   HHH   \n",
      "  HHHHH  \n",
      " HHHHHHH \n",
      "HHHHHHHHH\n",
      "  HHHHH               HHHHH             \n",
      "  HHHHH               HHHHH             \n",
      "  HHHHH               HHHHH             \n",
      "  HHHHH               HHHHH             \n",
      "  HHHHH               HHHHH             \n",
      "  HHHHH               HHHHH             \n",
      "  HHHHHHHHHHHHHHHHHHHHHHHHH   \n",
      "  HHHHHHHHHHHHHHHHHHHHHHHHH   \n",
      "  HHHHHHHHHHHHHHHHHHHHHHHHH   \n",
      "  HHHHH               HHHHH             \n",
      "  HHHHH               HHHHH             \n",
      "  HHHHH               HHHHH             \n",
      "  HHHHH               HHHHH             \n",
      "  HHHHH               HHHHH             \n",
      "  HHHHH               HHHHH             \n",
      "                    HHHHHHHHH \n",
      "                     HHHHHHH  \n",
      "                      HHHHH   \n",
      "                       HHH    \n",
      "                        H     \n"
     ]
    }
   ],
   "source": [
    "thickness = 5\n",
    "c = 'H'\n",
    "\n",
    "#Top Cone\n",
    "for i in range(thickness):\n",
    "    print((c*i).rjust(thickness-1)+c+(c*i).ljust(thickness-1))\n",
    "\n",
    "#Top Pillars\n",
    "for i in range(thickness+1):\n",
    "    print((c*thickness).center(thickness*2)+(c*thickness).center(thickness*6))\n",
    "\n",
    "#Middle Belt\n",
    "for i in range((thickness+1)//2):\n",
    "    print((c*thickness*5).center(thickness*6))    \n",
    "\n",
    "#Bottom Pillars\n",
    "for i in range(thickness+1):\n",
    "    print((c*thickness).center(thickness*2)+(c*thickness).center(thickness*6)) \n",
    "\n",
    "#Bottom Cone\n",
    "for i in range(thickness):\n",
    "    print(((c*(thickness-i-1)).rjust(thickness)+c+(c*(thickness-i-1)).ljust(thickness)).rjust(thickness*6))"
   ]
  },
  {
   "cell_type": "code",
   "execution_count": 78,
   "metadata": {},
   "outputs": [
    {
     "name": "stdout",
     "output_type": "stream",
     "text": [
      "FFFFFFFFFFFFFFFFFFFFFFFFF     \n",
      "FFFFFFFFFFFFFFFFFFFFFFFFF     \n",
      "FFFFFFFFFFFFFFFFFFFFFFFFF     \n",
      "FFFFFFFFFF                    \n",
      "FFFFFFFFFF                    \n",
      "FFFFFFFFFF                    \n",
      "FFFFFFFFFFFFFFFFFFFF          \n",
      "FFFFFFFFFFFFFFFFFFFF          \n",
      "FFFFFFFFFFFFFFFFFFFF          \n",
      "FFFFFFFFFF                    \n",
      "FFFFFFFFFF                    \n",
      "FFFFFFFFFF                    \n",
      "FFFFFFFFFF                    \n",
      "FFFFFFFFFF                    \n",
      "FFFFFFFFFF                    \n"
     ]
    }
   ],
   "source": [
    "thickness = 5\n",
    "c = 'F'\n",
    "\n",
    "for i in range((thickness+1)//2):\n",
    "    print((c*thickness*5).ljust(thickness*6)) \n",
    "\n",
    "for i in range((thickness+1)//2):\n",
    "    print((c*thickness*2).ljust(thickness*6)) \n",
    "\n",
    "for i in range((thickness+1)//2):\n",
    "    print((c*thickness*4).ljust(thickness*6)) \n",
    "\n",
    "for i in range((thickness+1)//2):\n",
    "    print((c*thickness*2).ljust(thickness*6)) \n",
    "\n",
    "for i in range((thickness+1)//2):\n",
    "    print((c*thickness*2).ljust(thickness*6)) \n"
   ]
  },
  {
   "attachments": {},
   "cell_type": "markdown",
   "metadata": {},
   "source": [
    "### Ejercicio 9: Text Wrap"
   ]
  },
  {
   "cell_type": "code",
   "execution_count": 104,
   "metadata": {},
   "outputs": [
    {
     "data": {
      "text/plain": [
       "'ABCD\\nEFGH\\nIJKL\\nIMNO\\nQRST\\nUVWX\\nYZ'"
      ]
     },
     "execution_count": 104,
     "metadata": {},
     "output_type": "execute_result"
    }
   ],
   "source": [
    "# la que funciono\n",
    "import textwrap\n",
    "string = 'ABCDEFGHIJKLIMNOQRSTUVWXYZ'\n",
    "max_width = 4\n",
    "\n",
    "def wrap(string, max_width):\n",
    "    return textwrap.fill(string,max_width)\n",
    "\n",
    "wrap(string, max_width)"
   ]
  },
  {
   "cell_type": "code",
   "execution_count": 106,
   "metadata": {},
   "outputs": [
    {
     "data": {
      "text/plain": [
       "'ABCD\\nEFGH\\nIJKL\\nIMNO\\nQRST\\nUVWX\\nYZ'"
      ]
     },
     "execution_count": 106,
     "metadata": {},
     "output_type": "execute_result"
    }
   ],
   "source": [
    "# Otra forma\n",
    "def wrap1(string, max_width):\n",
    "    sep = textwrap.fill(string, max_width)\n",
    "    sep_espacio = sep.replace('\\n', ' ')\n",
    "    return textwrap.fill(sep_espacio, max_width)\n",
    "\n",
    "wrap(string, max_width)\n"
   ]
  },
  {
   "cell_type": "code",
   "execution_count": 107,
   "metadata": {},
   "outputs": [
    {
     "name": "stdout",
     "output_type": "stream",
     "text": [
      "ABCD\n",
      "EFGH\n",
      "IJKL\n",
      "IMNO\n",
      "QRST\n",
      "UVWX\n",
      "YZ\n"
     ]
    }
   ],
   "source": [
    "# Otra\n",
    "def wrap2(string, max_width):\n",
    "    lista = textwrap.wrap(string, max_width)\n",
    "    for i in lista:\n",
    "        print(i)\n",
    "\n",
    "wrap2(string, max_width)"
   ]
  },
  {
   "attachments": {},
   "cell_type": "markdown",
   "metadata": {},
   "source": [
    "### Ejercicio 10: Designer Door Mat\n",
    "\n",
    "Size: 7 x 21 <br>\n",
    "---------.|.---------<br>\n",
    "------.|..|..|.------<br>\n",
    "---.|..|..|..|..|.---<br>\n",
    "-------WELCOME-------<br>\n",
    "---.|..|..|..|..|.---<br>\n",
    "------.|..|..|.------<br>\n",
    "---------.|.---------"
   ]
  },
  {
   "cell_type": "code",
   "execution_count": 110,
   "metadata": {},
   "outputs": [
    {
     "data": {
      "text/plain": [
       "(2, 7)"
      ]
     },
     "execution_count": 110,
     "metadata": {},
     "output_type": "execute_result"
    }
   ],
   "source": [
    "x = input('ingresar 2 numeros separados por espacio:')\n",
    "lista =x.split(' ')\n",
    "lista\n",
    "int(lista[0]), int(lista[1])"
   ]
  },
  {
   "cell_type": "code",
   "execution_count": 107,
   "metadata": {},
   "outputs": [
    {
     "name": "stdout",
     "output_type": "stream",
     "text": [
      "---------.|.---------\n",
      "------.|..|..|.------\n",
      "---.|..|..|..|..|.---\n",
      "-------WELCOME-------\n",
      "---.|..|..|..|..|.---\n",
      "------.|..|..|.------\n",
      "---------.|.---------\n"
     ]
    }
   ],
   "source": [
    "N = 7\n",
    "M =  N*3\n",
    "d= '.|.'\n",
    "#Top Cone\n",
    "for i in range((N)//2):\n",
    "    print((d*i).rjust((M-2)//2,'-')+d+(d*i).ljust((M-2)//2,'-'))\n",
    "\n",
    "# Welcome\n",
    "print ('WELCOME'.center(M,'-'))\n",
    "\n",
    "#Bottom Cone\n",
    "for i in range((N)//2):\n",
    "    print((d*((N//2)-i-1)).rjust((M-2)//2,'-')+d+(d*((N//2)-i-1)).ljust((M-2)//2,'-'))"
   ]
  },
  {
   "attachments": {},
   "cell_type": "markdown",
   "metadata": {},
   "source": [
    "### Ejercicio 11: String Formatting\n",
    "columnas de decimal, octal, hexadecimal y binario separados por espacios segun el binario"
   ]
  },
  {
   "cell_type": "code",
   "execution_count": 106,
   "metadata": {},
   "outputs": [
    {
     "name": "stdout",
     "output_type": "stream",
     "text": [
      "    1     1     1     1\n",
      "    2     2     2    10\n",
      "    3     3     3    11\n",
      "    4     4     4   100\n",
      "    5     5     5   101\n",
      "    6     6     6   110\n",
      "    7     7     7   111\n",
      "    8    10     8  1000\n",
      "    9    11     9  1001\n",
      "   10    12     A  1010\n",
      "   11    13     B  1011\n",
      "   12    14     C  1100\n",
      "   13    15     D  1101\n",
      "   14    16     E  1110\n",
      "   15    17     F  1111\n",
      "   16    20    10 10000\n",
      "   17    21    11 10001\n"
     ]
    }
   ],
   "source": [
    "n = 17\n",
    "# Decimal a Octales\n",
    "long = len(bin(n)[2:])+1\n",
    "for i in range(1,n+1):\n",
    "    decimal = str(i)\n",
    "    octal = oct(i)[2:]\n",
    "    hexadecimal = hex(i)[2:].upper()\n",
    "    binario = bin(i)[2:]\n",
    "    print(decimal.rjust(long-1,' ') + octal.rjust(long,' ') + hexadecimal.rjust(long,' ') + binario.rjust(long,' '))"
   ]
  },
  {
   "attachments": {},
   "cell_type": "markdown",
   "metadata": {},
   "source": [
    "### Ejercicio 12: Alphabet Rangoli\n",
    "Sample Input\n",
    "\n",
    "5\n",
    "Sample Output\n",
    "\n",
    "--------e--------<br>\n",
    "------e-d-e------<br>\n",
    "----e-d-c-d-e----<br>\n",
    "--e-d-c-b-c-d-e--<br>\n",
    "e-d-c-b-a-b-c-d-e<br>\n",
    "--e-d-c-b-c-d-e--<br>\n",
    "----e-d-c-d-e----<br>\n",
    "------e-d-e------<br>\n",
    "--------e--------"
   ]
  },
  {
   "cell_type": "code",
   "execution_count": 14,
   "metadata": {},
   "outputs": [
    {
     "name": "stdout",
     "output_type": "stream",
     "text": [
      "['a', 'b', 'c', 'd', 'e', 'f', 'g', 'h', 'i', 'j', 'k', 'l', 'm', 'n', 'o', 'p', 'q', 'r', 's', 't', 'u', 'v', 'w', 'x', 'y', 'z']\n"
     ]
    }
   ],
   "source": [
    "import string\n",
    "abclista = list(string.ascii_lowercase)\n",
    "print(abclista)"
   ]
  },
  {
   "cell_type": "code",
   "execution_count": 92,
   "metadata": {},
   "outputs": [
    {
     "name": "stdout",
     "output_type": "stream",
     "text": [
      "['e', 'd', 'c', 'b', 'a']\n"
     ]
    },
    {
     "data": {
      "text/plain": [
       "17"
      ]
     },
     "execution_count": 92,
     "metadata": {},
     "output_type": "execute_result"
    }
   ],
   "source": [
    "size = 5  # size = int(input())\n",
    "letras = abclista[:size]\n",
    "lista= list(reversed(letras))\n",
    "print(lista)\n",
    "\n",
    "lines = size + (size-1) + (size+size-1)-1\n",
    "lines"
   ]
  },
  {
   "cell_type": "code",
   "execution_count": 94,
   "metadata": {},
   "outputs": [
    {
     "name": "stdout",
     "output_type": "stream",
     "text": [
      "--------e--------\n",
      "------e-d-e------\n",
      "----e-d-c-d-e----\n",
      "--e-d-c-b-c-d-e--\n",
      "e-d-c-b-a-b-c-d-e\n",
      "--e-d-c-b-c-d-e--\n",
      "----e-d-c-d-e----\n",
      "------e-d-e------\n",
      "--------e--------\n"
     ]
    }
   ],
   "source": [
    "# Parte de arriba y centro\n",
    "for i,e  in enumerate(lista):\n",
    "    listizq = lista[:i+1]\n",
    "    listder = list(reversed(lista[:i]))\n",
    "    # print(listizq + listder)\n",
    "\n",
    "    strizq = ''.join(listizq)\n",
    "    strder =''.join(listder)\n",
    "    letraslines = strizq + strder\n",
    "\n",
    "    print('-'.join(letraslines).center(lines,'-'))\n",
    "\n",
    "# Parte de abajo\n",
    "mitad = len(lista)\n",
    "for i in range(1, mitad):\n",
    "    listizq = lista[:mitad-i]\n",
    "\n",
    "    listder = list(reversed(lista[:mitad-i-1]))\n",
    "\n",
    "    strizq = ''.join(listizq)\n",
    "    strder =''.join(listder)\n",
    "    letraslines = strizq + strder\n",
    "\n",
    "    print('-'.join(letraslines).center(lines,'-'))\n",
    "\n"
   ]
  },
  {
   "attachments": {},
   "cell_type": "markdown",
   "metadata": {},
   "source": [
    "Ejercicio 13: Capitalize"
   ]
  },
  {
   "cell_type": "code",
   "execution_count": 102,
   "metadata": {},
   "outputs": [],
   "source": [
    "def solve(s):\n",
    "    s = s.split(\" \")\n",
    "    for i in range(len(s)) :\n",
    "        s[i] = s[i].capitalize()\n",
    "    return \" \".join(s)"
   ]
  },
  {
   "cell_type": "code",
   "execution_count": 103,
   "metadata": {},
   "outputs": [
    {
     "data": {
      "text/plain": [
       "'Hola Mundo'"
      ]
     },
     "execution_count": 103,
     "metadata": {},
     "output_type": "execute_result"
    }
   ],
   "source": [
    "solve('hola mundo')"
   ]
  },
  {
   "attachments": {},
   "cell_type": "markdown",
   "metadata": {},
   "source": [
    "### Ejercicio 14: intertools.product()"
   ]
  },
  {
   "cell_type": "code",
   "execution_count": 19,
   "metadata": {},
   "outputs": [
    {
     "name": "stdout",
     "output_type": "stream",
     "text": [
      "(1, 3) (1, 4) (2, 3) (2, 4) \n"
     ]
    }
   ],
   "source": [
    "A = '1 2'\n",
    "B = '3 4'\n",
    "\n",
    "from itertools import product\n",
    "a = A.split(' ')\n",
    "b = B.split(' ')\n",
    "\n",
    "for i in range(len(a)):\n",
    "    a[i] = int(a[i])\n",
    "\n",
    "for i in range(len(b)):\n",
    "    b[i] = int(b[i])\n",
    "    \n",
    "\n",
    "lista = list(product(a,b))\n",
    "strfinal =''\n",
    "for i in lista:\n",
    "    j = str(i)\n",
    "    strfinal = strfinal + j + ' '\n",
    "print(strfinal)\n"
   ]
  },
  {
   "attachments": {},
   "cell_type": "markdown",
   "metadata": {},
   "source": [
    "### Ejercicio 15: "
   ]
  },
  {
   "cell_type": "code",
   "execution_count": 36,
   "metadata": {},
   "outputs": [
    {
     "name": "stdout",
     "output_type": "stream",
     "text": [
      "['BANANA', 'B', 'BA', 'BAN', 'BANA', 'BANAN', 'ANANA', 'A', 'AN', 'ANA', 'ANAN', 'NANA', 'N', 'NA', 'NAN', 'ANA', 'A', 'AN', 'NA', 'N', 'A']\n"
     ]
    }
   ],
   "source": [
    "import textwrap\n",
    "\n",
    "s = 'BANANA'\n",
    "lista_final = list()\n",
    "lista = textwrap.wrap(s, len(s))\n",
    "#print(lista)\n",
    "lista_final.append(lista[0])\n",
    "for i in range(1, len(s)+1):\n",
    "        lista = textwrap.wrap(s, i)\n",
    "        if len(lista[0]) > len(s)/2:\n",
    "            lista.pop()\n",
    "        #print(lista)\n",
    "\n",
    "        if len(lista) > 0:\n",
    "            lista_final.append(lista[0])\n",
    "\n",
    "while len(s) > 1:\n",
    "    s = s[1:]\n",
    "    lista = textwrap.wrap(s, len(s))\n",
    "    #print(lista)\n",
    "\n",
    "    if len(lista) > 0:\n",
    "        lista_final.append(lista[0])\n",
    "    \n",
    "    for i in range(1, len(s)+1):\n",
    "        lista = textwrap.wrap(s, i)\n",
    "        if len(lista[0]) > len(s)/2:\n",
    "            lista.pop()\n",
    "        #print(lista)\n",
    "        \n",
    "        if len(lista) > 0:\n",
    "            lista_final.append(lista[0])\n",
    "\n",
    "print(lista_final)\n",
    "\n",
    "# Cuando pasa mas de la mitad no se considera\n"
   ]
  },
  {
   "cell_type": "code",
   "execution_count": 43,
   "metadata": {},
   "outputs": [
    {
     "name": "stdout",
     "output_type": "stream",
     "text": [
      "9\n",
      "12\n"
     ]
    }
   ],
   "source": [
    "contvocales = 0\n",
    "contconsonantes = 0\n",
    "\n",
    "for i in lista_final:\n",
    "    if i[0] in 'AEIOU':\n",
    "        contvocales += 1\n",
    "    else:\n",
    "        contconsonantes += 1\n",
    "\n",
    "print(contvocales)\n",
    "print(contconsonantes)"
   ]
  },
  {
   "cell_type": "code",
   "execution_count": 45,
   "metadata": {},
   "outputs": [
    {
     "name": "stdout",
     "output_type": "stream",
     "text": [
      "Stuart 12\n"
     ]
    }
   ],
   "source": [
    "if contconsonantes > contvocales:\n",
    "    print('Stuart ' + str(contconsonantes))\n",
    "else:\n",
    "    print('Kevin ' + str(contvocales))"
   ]
  },
  {
   "cell_type": "code",
   "execution_count": 47,
   "metadata": {},
   "outputs": [
    {
     "name": "stdout",
     "output_type": "stream",
     "text": [
      "Stuart 12\n"
     ]
    }
   ],
   "source": [
    "string = 'BANANA'\n",
    "stuart=0\n",
    "kevin=0\n",
    "vowels=['A','E','I','O','U']\n",
    "for i in range(len(string)):\n",
    "    if(string[i] in vowels):\n",
    "        kevin+=len(string)-i\n",
    "    else:\n",
    "        stuart+=len(string)-i\n",
    "if(kevin>stuart):\n",
    "    print(f\"Kevin {kevin}\")\n",
    "elif(kevin<stuart):\n",
    "    print(f\"Stuart {stuart}\")\n",
    "else:\n",
    "    print(\"Draw\")"
   ]
  },
  {
   "attachments": {},
   "cell_type": "markdown",
   "metadata": {},
   "source": [
    "### Ejercicio 16: collections.Counter()"
   ]
  },
  {
   "cell_type": "code",
   "execution_count": null,
   "metadata": {},
   "outputs": [],
   "source": [
    "x = int(input()) # x = 10  \n",
    "\n",
    "xl = input() # xl = '2 3 4 5 6 7 6 5 18'  \n",
    "\n",
    "n = int(input()) # n = 6 \n",
    "\n",
    "\n"
   ]
  }
 ],
 "metadata": {
  "kernelspec": {
   "display_name": "Python 3",
   "language": "python",
   "name": "python3"
  },
  "language_info": {
   "codemirror_mode": {
    "name": "ipython",
    "version": 3
   },
   "file_extension": ".py",
   "mimetype": "text/x-python",
   "name": "python",
   "nbconvert_exporter": "python",
   "pygments_lexer": "ipython3",
   "version": "3.10.8 (tags/v3.10.8:aaaf517, Oct 11 2022, 16:50:30) [MSC v.1933 64 bit (AMD64)]"
  },
  "orig_nbformat": 4,
  "vscode": {
   "interpreter": {
    "hash": "8c3d4d9970fc5c09c50d9318a9c7fbf4d0159e4b28833276f5678ee22bded273"
   }
  }
 },
 "nbformat": 4,
 "nbformat_minor": 2
}
