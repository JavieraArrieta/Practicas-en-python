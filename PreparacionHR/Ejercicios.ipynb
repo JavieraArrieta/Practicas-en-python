{
 "cells": [
  {
   "attachments": {},
   "cell_type": "markdown",
   "metadata": {},
   "source": [
    "### Ejercicio 1: Lists<br>\n",
    "N = numero de comandos<br>\n",
    "ejemplo:<br>\n",
    "N= 3<br>\n",
    "append 1<br>\n",
    "append 2<br>\n",
    "insert 1 3<br>\n",
    "print\n"
   ]
  },
  {
   "cell_type": "code",
   "execution_count": 13,
   "metadata": {},
   "outputs": [
    {
     "name": "stdout",
     "output_type": "stream",
     "text": [
      "[1, 2, 1]\n"
     ]
    }
   ],
   "source": [
    "N = int(input())\n",
    "lista = []\n",
    "for i in range(N):\n",
    "    a = input()\n",
    "    alist = a.split(' ')\n",
    "\n",
    "    if alist[0] == 'insert':\n",
    "        lista.insert(int(alist[1]), int(alist[2]))\n",
    "\n",
    "    elif alist[0] == 'print':\n",
    "        print(lista)\n",
    "    \n",
    "    elif alist[0] == 'remove':\n",
    "        lista.remove(int(alist[1]))\n",
    "    \n",
    "    elif alist[0] == 'append':\n",
    "        lista.append(int(alist[1]))\n",
    "    \n",
    "    elif alist[0] == 'sort':\n",
    "        lista = sorted(lista)\n",
    "\n",
    "    elif alist[0]== 'pop':\n",
    "        lista.pop()\n",
    "\n",
    "    elif alist[0] == 'reverse':\n",
    "        lista.reverse()\n"
   ]
  },
  {
   "attachments": {},
   "cell_type": "markdown",
   "metadata": {},
   "source": [
    "### Ejercicio 2: finding the percentage<br>\n",
    "ejemplo:<br>\n",
    "3<br>\n",
    "Krishna 67 68 69<br>\n",
    "Arjun 70 98 63<br>\n",
    "Malika 52 56 60<br>\n",
    "Malika"
   ]
  },
  {
   "cell_type": "code",
   "execution_count": 11,
   "metadata": {},
   "outputs": [
    {
     "name": "stdout",
     "output_type": "stream",
     "text": [
      "26.50\n"
     ]
    }
   ],
   "source": [
    "n = int(input())\n",
    "student_marks = {}\n",
    "for _ in range(n):\n",
    "    name, *line = input().split()\n",
    "    scores = list(map(float, line))\n",
    "    student_marks[name] = scores\n",
    "query_name = input()\n",
    "print(format(sum(student_marks[query_name])/len(student_marks  [query_name]), '.2f'))\n"
   ]
  },
  {
   "attachments": {},
   "cell_type": "markdown",
   "metadata": {},
   "source": [
    "### Ejercicio 3: tuples, function hash()"
   ]
  },
  {
   "cell_type": "code",
   "execution_count": 38,
   "metadata": {},
   "outputs": [
    {
     "name": "stdout",
     "output_type": "stream",
     "text": [
      "-3550055125485641917\n"
     ]
    }
   ],
   "source": [
    "t = 2\n",
    "n = '1 2'\n",
    "lista_nums=[]\n",
    "lista = n.split(' ')\n",
    "\n",
    "for nums in lista:\n",
    "       lista_nums.append(int(nums))\n",
    "\n",
    "tupla = tuple(lista_nums)\n",
    "    \n",
    "print(hash(tupla))\n"
   ]
  },
  {
   "attachments": {},
   "cell_type": "markdown",
   "metadata": {},
   "source": [
    "### Ejercicio 4: SwAp CaSe, pasar de mayuscula a minuscula"
   ]
  },
  {
   "cell_type": "code",
   "execution_count": 43,
   "metadata": {},
   "outputs": [
    {
     "name": "stdout",
     "output_type": "stream",
     "text": [
      "jAvIErA\n"
     ]
    }
   ],
   "source": [
    "def swap_case(s):\n",
    "    s = s.swapcase()\n",
    "    return s\n",
    "\n",
    "if __name__ == '__main__':\n",
    "    s = input()\n",
    "    result = swap_case(s)\n",
    "    print(result)"
   ]
  },
  {
   "attachments": {},
   "cell_type": "markdown",
   "metadata": {},
   "source": [
    "### Ejercicio 5: String split and join\n",
    "\"this is a string\"   pasarlo a \"this-is-a-string \"  "
   ]
  },
  {
   "cell_type": "code",
   "execution_count": 44,
   "metadata": {},
   "outputs": [
    {
     "name": "stdout",
     "output_type": "stream",
     "text": [
      "hola-mundo\n"
     ]
    }
   ],
   "source": [
    "def split_and_join(line):\n",
    "    # write your code here\n",
    "    a = line.split(' ')\n",
    "    a = '-'.join(a)\n",
    "    return a\n",
    "\n",
    "if __name__ == '__main__':\n",
    "    line = input()\n",
    "    result = split_and_join(line)\n",
    "    print(result)"
   ]
  },
  {
   "attachments": {},
   "cell_type": "markdown",
   "metadata": {},
   "source": [
    "### Ejercicio 6: find a string\n",
    "Contar cuantas veces aparece una palabra en un string"
   ]
  },
  {
   "cell_type": "code",
   "execution_count": 43,
   "metadata": {},
   "outputs": [
    {
     "name": "stdout",
     "output_type": "stream",
     "text": [
      "La palabra CDC aparece 4 veces.\n"
     ]
    }
   ],
   "source": [
    "string = 'ABCDCDCHCDCCDC'\n",
    "sub_string = 'CDC'\n",
    "\n",
    "count = 0\n",
    "for i, p in enumerate(string):\n",
    "    if p == sub_string[0]:\n",
    "        if string[i : len(sub_string) + i] == sub_string:\n",
    "            count = count + 1\n",
    "print(f\"La palabra {sub_string} aparece {count} veces.\")"
   ]
  },
  {
   "attachments": {},
   "cell_type": "markdown",
   "metadata": {},
   "source": [
    "### Ejercicio 7: String Validators.\n",
    "str.isalnum() (a-z, A-Z, 0-9)<br>\n",
    "str.isalpha() (a-z, A-Z)<br> \n",
    "str.isdigit() (0-9)<br>\n",
    "str.islower() (a-z)<br>\n",
    "str.isupper() (A-Z)\n"
   ]
  },
  {
   "cell_type": "code",
   "execution_count": 98,
   "metadata": {},
   "outputs": [
    {
     "name": "stdout",
     "output_type": "stream",
     "text": [
      "True\n",
      "True\n",
      "True\n",
      "True\n",
      "True\n"
     ]
    }
   ],
   "source": [
    "s = 'qA2'\n",
    "for i in range(0, len(s)):\n",
    "    if s[i].isalnum():\n",
    "        print(True)\n",
    "        break\n",
    "    if i == len(s) - 1:\n",
    "        print(False) \n",
    "\n",
    "for i in range(0, len(s)):\n",
    "    if s[i].isalpha():\n",
    "        print(True)\n",
    "        break\n",
    "    if i == len(s) - 1:\n",
    "        print(False) \n",
    "\n",
    "for i in range(0, len(s)):\n",
    "    if s[i].isdigit():\n",
    "        print(True)\n",
    "        break\n",
    "    if i == len(s) - 1:\n",
    "        print(False) \n",
    "\n",
    "for i in range(0, len(s)):\n",
    "    if s[i].islower():\n",
    "        print(True)\n",
    "        break\n",
    "    if i == len(s) - 1:\n",
    "        print(False) \n",
    "\n",
    "for i in range(0, len(s)):\n",
    "    if s[i].isupper():\n",
    "        print(True)\n",
    "        break\n",
    "    if i == len(s) - 1:\n",
    "        print(False) \n",
    "    "
   ]
  }
 ],
 "metadata": {
  "kernelspec": {
   "display_name": "Python 3",
   "language": "python",
   "name": "python3"
  },
  "language_info": {
   "codemirror_mode": {
    "name": "ipython",
    "version": 3
   },
   "file_extension": ".py",
   "mimetype": "text/x-python",
   "name": "python",
   "nbconvert_exporter": "python",
   "pygments_lexer": "ipython3",
   "version": "3.10.8"
  },
  "orig_nbformat": 4,
  "vscode": {
   "interpreter": {
    "hash": "8c3d4d9970fc5c09c50d9318a9c7fbf4d0159e4b28833276f5678ee22bded273"
   }
  }
 },
 "nbformat": 4,
 "nbformat_minor": 2
}
