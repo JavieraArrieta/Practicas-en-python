{
 "cells": [
  {
   "cell_type": "markdown",
   "metadata": {},
   "source": [
    "Leer lista de atras para adelante"
   ]
  },
  {
   "cell_type": "code",
   "execution_count": 53,
   "metadata": {},
   "outputs": [
    {
     "data": {
      "text/plain": [
       "[3, 4, 5, 2]"
      ]
     },
     "execution_count": 53,
     "metadata": {},
     "output_type": "execute_result"
    }
   ],
   "source": [
    "l = [2, 5, 4, 3]\n",
    "l[::-1]"
   ]
  },
  {
   "cell_type": "code",
   "execution_count": 54,
   "metadata": {},
   "outputs": [
    {
     "name": "stdout",
     "output_type": "stream",
     "text": [
      "[3, 4, 5, 2]\n"
     ]
    }
   ],
   "source": [
    "l.reverse()\n",
    "print(l)"
   ]
  },
  {
   "cell_type": "markdown",
   "metadata": {},
   "source": [
    "Unir los elementos string de una lista y transformarlo en una cadena de caracteres.\n",
    "Los elementos si o si deben ser string para usar join"
   ]
  },
  {
   "cell_type": "code",
   "execution_count": 55,
   "metadata": {},
   "outputs": [
    {
     "name": "stdout",
     "output_type": "stream",
     "text": [
      "Unir los elementos de la lista.\n"
     ]
    }
   ],
   "source": [
    "a = ['Unir', 'los', 'elementos', 'de', 'la', 'lista.']\n",
    "cadena = ' '.join(a)\n",
    "print(cadena)"
   ]
  },
  {
   "cell_type": "markdown",
   "metadata": {},
   "source": [
    "Ordenar la lista de mayor a menor"
   ]
  },
  {
   "cell_type": "code",
   "execution_count": 56,
   "metadata": {},
   "outputs": [
    {
     "name": "stdout",
     "output_type": "stream",
     "text": [
      "[7, 5, 4, 3, 2]\n"
     ]
    }
   ],
   "source": [
    "lis = [2,4,3,5,7]\n",
    "lis.sort(reverse= True)\n",
    "print(lis)"
   ]
  },
  {
   "cell_type": "markdown",
   "metadata": {},
   "source": [
    "Desempaquetado de tuplas / listas"
   ]
  },
  {
   "cell_type": "code",
   "execution_count": 57,
   "metadata": {},
   "outputs": [
    {
     "name": "stdout",
     "output_type": "stream",
     "text": [
      "25\n",
      "1.66\n"
     ]
    }
   ],
   "source": [
    "# En este caso la cantidad de variables es igual a la cantidad de elementos\n",
    "edad, altura, sexo = 25, 1.66, 'F'\n",
    "print(edad)\n",
    "print(altura)"
   ]
  },
  {
   "cell_type": "code",
   "execution_count": 58,
   "metadata": {},
   "outputs": [
    {
     "name": "stdout",
     "output_type": "stream",
     "text": [
      "20\n",
      "50\n"
     ]
    }
   ],
   "source": [
    "# Si solo necesitamos ciertos elementos en especifico podemos buscarlos por su indice.\n",
    "tupla = (10, 20, 30, 40, 50)\n",
    "primero, segundo, ultimo = tupla[0], tupla[1], tupla[-1]\n",
    "print(segundo)\n",
    "print(ultimo)\n"
   ]
  },
  {
   "cell_type": "code",
   "execution_count": 59,
   "metadata": {},
   "outputs": [
    {
     "name": "stdout",
     "output_type": "stream",
     "text": [
      "40\n"
     ]
    }
   ],
   "source": [
    "# Usando guion bajo para completar las variables.\n",
    "lista = [10, 20, 30, 40, 50]\n",
    "var1, _, _, var4, var5 = lista\n",
    "print(var4)"
   ]
  },
  {
   "cell_type": "code",
   "execution_count": 60,
   "metadata": {},
   "outputs": [
    {
     "name": "stdout",
     "output_type": "stream",
     "text": [
      "20\n"
     ]
    }
   ],
   "source": [
    "# Si la lista tiene muchos valores, para no poner todos los guiones que faltan, se le pone *_\n",
    "l = [10,20,30,40,50,60,70,80,90,100,200,300,400,500]\n",
    "primero, segundo, *_, ultimo = l\n",
    "print(segundo)\n"
   ]
  },
  {
   "cell_type": "markdown",
   "metadata": {},
   "source": [
    "Diferencia entre CONCATENAR Y AGREGAR una lista como elemento."
   ]
  },
  {
   "cell_type": "code",
   "execution_count": 61,
   "metadata": {},
   "outputs": [
    {
     "name": "stdout",
     "output_type": "stream",
     "text": [
      "[1, 2, 3, 4, 5, 6, 7, 8, 9, 10]\n"
     ]
    }
   ],
   "source": [
    "# Concatenar listas.\n",
    "l1 = [1, 3, 5, 7, 9]\n",
    "l2 = [2, 4, 6, 8, 10]\n",
    "l1.extend(l2)\n",
    "print(sorted(l1))"
   ]
  },
  {
   "cell_type": "code",
   "execution_count": 62,
   "metadata": {},
   "outputs": [
    {
     "name": "stdout",
     "output_type": "stream",
     "text": [
      "[1, 2, 3, [4, 5, 6]]\n"
     ]
    }
   ],
   "source": [
    "# Agregar una lista a una lista. \n",
    "l = [1, 2, 3]\n",
    "lx = [4,5,6]\n",
    "l.append(lx)\n",
    "print(l)"
   ]
  },
  {
   "cell_type": "markdown",
   "metadata": {},
   "source": [
    "Iterables"
   ]
  },
  {
   "cell_type": "code",
   "execution_count": 6,
   "metadata": {},
   "outputs": [
    {
     "name": "stdout",
     "output_type": "stream",
     "text": [
      "H\n",
      "o\n",
      "l\n",
      "a\n"
     ]
    },
    {
     "ename": "StopIteration",
     "evalue": "",
     "output_type": "error",
     "traceback": [
      "\u001b[1;31m---------------------------------------------------------------------------\u001b[0m",
      "\u001b[1;31mStopIteration\u001b[0m                             Traceback (most recent call last)",
      "\u001b[1;32mc:\\Users\\Lenovo\\Desktop\\HENRY\\Practicas en python\\Repaso de clases\\Conceptos.ipynb Cell 17'\u001b[0m in \u001b[0;36m<cell line: 8>\u001b[1;34m()\u001b[0m\n\u001b[0;32m      <a href='vscode-notebook-cell:/c%3A/Users/Lenovo/Desktop/HENRY/Practicas%20en%20python/Repaso%20de%20clases/Conceptos.ipynb#ch0000016?line=5'>6</a>\u001b[0m \u001b[39mprint\u001b[39m(\u001b[39mnext\u001b[39m(iterar))\n\u001b[0;32m      <a href='vscode-notebook-cell:/c%3A/Users/Lenovo/Desktop/HENRY/Practicas%20en%20python/Repaso%20de%20clases/Conceptos.ipynb#ch0000016?line=6'>7</a>\u001b[0m \u001b[39mprint\u001b[39m(\u001b[39mnext\u001b[39m(iterar))\n\u001b[1;32m----> <a href='vscode-notebook-cell:/c%3A/Users/Lenovo/Desktop/HENRY/Practicas%20en%20python/Repaso%20de%20clases/Conceptos.ipynb#ch0000016?line=7'>8</a>\u001b[0m \u001b[39mprint\u001b[39m(\u001b[39mnext\u001b[39;49m(iterar))\n",
      "\u001b[1;31mStopIteration\u001b[0m: "
     ]
    }
   ],
   "source": [
    "# De un string a un iterador\n",
    "unstring = 'Hola'\n",
    "iterar = iter(unstring)\n",
    "print(next(iterar))\n",
    "print(next(iterar))\n",
    "print(next(iterar))\n",
    "print(next(iterar))\n",
    "print(next(iterar))"
   ]
  },
  {
   "cell_type": "code",
   "execution_count": 7,
   "metadata": {},
   "outputs": [
    {
     "name": "stdout",
     "output_type": "stream",
     "text": [
      "H\n",
      "o\n",
      "l\n",
      "a\n",
      "Ya no hay mas elementos\n"
     ]
    }
   ],
   "source": [
    "unstring = 'Hola'\n",
    "iterar = iter(unstring)\n",
    "while True:\n",
    "    try:\n",
    "        elem = next(iterar)\n",
    "        print(f'{elem}')\n",
    "    except StopIteration:\n",
    "        print('Ya no hay mas elementos')\n",
    "        break\n"
   ]
  },
  {
   "cell_type": "code",
   "execution_count": 12,
   "metadata": {},
   "outputs": [
    {
     "name": "stdout",
     "output_type": "stream",
     "text": [
      "0\n",
      "1\n",
      "2\n",
      "3\n",
      "4\n",
      "5\n"
     ]
    }
   ],
   "source": [
    "numeros = [i for i in range(6)]\n",
    "iterador = iter(numeros)\n",
    "for nro in numeros:\n",
    "    print(nro)\n",
    "\n",
    "# Aqui no es necesario el iterador para el for"
   ]
  },
  {
   "cell_type": "code",
   "execution_count": 9,
   "metadata": {},
   "outputs": [
    {
     "name": "stdout",
     "output_type": "stream",
     "text": [
      "Los numeros son 0\n",
      "Los numeros son 1\n",
      "Los numeros son 2\n",
      "Los numeros son 3\n",
      "Los numeros son 4\n",
      "Los numeros son 5\n",
      "Ya no hay mas numeros para mostrar!\n"
     ]
    }
   ],
   "source": [
    "# Para no mostrar el mensaje de error hacemos una excepcion.\n",
    "while True:\n",
    "    try:\n",
    "        elnum = next(iterador)\n",
    "        print(f'Los numeros son {elnum}')\n",
    "    except StopIteration:\n",
    "        print('Ya no hay mas numeros para mostrar!')\n",
    "        break\n"
   ]
  },
  {
   "cell_type": "markdown",
   "metadata": {},
   "source": [
    "FLUJO DE EJECUCION : Definiones de funciones a partir de otras funciones."
   ]
  },
  {
   "cell_type": "code",
   "execution_count": 13,
   "metadata": {},
   "outputs": [
    {
     "name": "stdout",
     "output_type": "stream",
     "text": [
      "primera linea\n",
      "\n",
      "\n",
      "\n",
      "segunda linea\n"
     ]
    }
   ],
   "source": [
    "def nueva_linea():\n",
    "    print()\n",
    "\n",
    "def tres_lineas():\n",
    "    nueva_linea()\n",
    "    nueva_linea()\n",
    "    nueva_linea()\n",
    "\n",
    "print('primera linea')\n",
    "tres_lineas()\n",
    "print('segunda linea')\n",
    "\n",
    "# La definicion de la funcion tiene que ejecutarse antes de la primera vez que se invoque."
   ]
  },
  {
   "cell_type": "code",
   "execution_count": 75,
   "metadata": {},
   "outputs": [
    {
     "name": "stdout",
     "output_type": "stream",
     "text": [
      "\n"
     ]
    }
   ],
   "source": [
    "nueva_linea()"
   ]
  },
  {
   "cell_type": "code",
   "execution_count": 15,
   "metadata": {},
   "outputs": [
    {
     "name": "stdout",
     "output_type": "stream",
     "text": [
      "\n"
     ]
    },
    {
     "ename": "TypeError",
     "evalue": "unsupported operand type(s) for +: 'NoneType' and 'int'",
     "output_type": "error",
     "traceback": [
      "\u001b[1;31m---------------------------------------------------------------------------\u001b[0m",
      "\u001b[1;31mTypeError\u001b[0m                                 Traceback (most recent call last)",
      "\u001b[1;32mc:\\Users\\Lenovo\\Desktop\\HENRY\\Practicas en python\\Repaso de clases\\Conceptos.ipynb Cell 24'\u001b[0m in \u001b[0;36m<cell line: 1>\u001b[1;34m()\u001b[0m\n\u001b[1;32m----> <a href='vscode-notebook-cell:/c%3A/Users/Lenovo/Desktop/HENRY/Practicas%20en%20python/Repaso%20de%20clases/Conceptos.ipynb#ch0000022?line=0'>1</a>\u001b[0m nueva_linea() \u001b[39m+\u001b[39;49m \u001b[39m7\u001b[39;49m\n",
      "\u001b[1;31mTypeError\u001b[0m: unsupported operand type(s) for +: 'NoneType' and 'int'"
     ]
    }
   ],
   "source": [
    "nueva_linea() + 7\n"
   ]
  },
  {
   "cell_type": "markdown",
   "metadata": {},
   "source": [
    "La funcion Zip(), Combinando listas."
   ]
  },
  {
   "cell_type": "code",
   "execution_count": 27,
   "metadata": {},
   "outputs": [
    {
     "data": {
      "text/plain": [
       "[('China', 1391), ('India', 1364), ('Estados Unidos', 327), ('Indonesia', 264)]"
      ]
     },
     "execution_count": 27,
     "metadata": {},
     "output_type": "execute_result"
    }
   ],
   "source": [
    "# La forma normal\n",
    "paises = [\"China\", \"India\", \"Estados Unidos\", \"Indonesia\"]\n",
    "poblaciones = [1391, 1364, 327, 264]\n",
    "list(zip(paises, poblaciones))"
   ]
  },
  {
   "cell_type": "code",
   "execution_count": 21,
   "metadata": {},
   "outputs": [
    {
     "name": "stdout",
     "output_type": "stream",
     "text": [
      "China: 1391 millones de habitantes.\n",
      "India: 1364 millones de habitantes.\n",
      "Estados Unidos: 327 millones de habitantes.\n",
      "Indonesia: 264 millones de habitantes.\n"
     ]
    }
   ],
   "source": [
    "for pais, poblacion in zip(paises, poblaciones):\n",
    "    print(\"{}: {} millones de habitantes.\".format(pais, poblacion))"
   ]
  },
  {
   "cell_type": "code",
   "execution_count": 23,
   "metadata": {},
   "outputs": [
    {
     "name": "stdout",
     "output_type": "stream",
     "text": [
      "China: 1391 millones de habitantes.\n",
      "India: 1364 millones de habitantes.\n",
      "Estados Unidos: 327 millones de habitantes.\n",
      "Indonesia: 264 millones de habitantes.\n"
     ]
    }
   ],
   "source": [
    "for pais, poblacion in zip(paises, poblaciones):\n",
    "    print(f\"{pais}: {poblacion} millones de habitantes.\")"
   ]
  },
  {
   "cell_type": "markdown",
   "metadata": {},
   "source": [
    "Funcionalidades de el resto de una division: \n",
    "- Ver si un numero es divisible por otro\n",
    "- Extraer el digito mas a la derecha"
   ]
  },
  {
   "cell_type": "code",
   "execution_count": 28,
   "metadata": {},
   "outputs": [
    {
     "name": "stdout",
     "output_type": "stream",
     "text": [
      "1\n",
      "5\n",
      "95\n",
      "895\n"
     ]
    }
   ],
   "source": [
    "print(7 % 3)\n",
    "print(1895 % 10)\n",
    "print(1895 % 100)\n",
    "print(1895 % 1000)"
   ]
  },
  {
   "cell_type": "markdown",
   "metadata": {},
   "source": [
    "Recursividad:LLamar a la funcion dentro de la misma funcion"
   ]
  },
  {
   "cell_type": "code",
   "execution_count": 36,
   "metadata": {},
   "outputs": [
    {
     "name": "stdout",
     "output_type": "stream",
     "text": [
      "3° Linea\n",
      "2° Linea\n",
      "1° Linea\n",
      "fin\n"
     ]
    }
   ],
   "source": [
    "# Sin usar recursividad\n",
    "def nLineas(n):\n",
    "    while n > 0:\n",
    "        print(str(n)+'° Linea')\n",
    "        n -= 1\n",
    "    print('fin')\n",
    "nLineas(3)"
   ]
  },
  {
   "cell_type": "code",
   "execution_count": 2,
   "metadata": {},
   "outputs": [
    {
     "name": "stdout",
     "output_type": "stream",
     "text": [
      "3 linea\n",
      "2 linea\n",
      "1 linea\n"
     ]
    }
   ],
   "source": [
    "def xlineas(x):\n",
    "    if x > 0:\n",
    "        print(x, 'linea')\n",
    "        xlineas(x-1)\n",
    "xlineas(3)"
   ]
  },
  {
   "cell_type": "markdown",
   "metadata": {},
   "source": [
    "Funcion isinstance() sirve para: </br>\n",
    "- Comparar la filiacion entre un objeto(instancia) y una clase.\n",
    "- Saber si una clase es iterable.\n",
    "- Ver si una clase u objeto hereda de un itarable."
   ]
  },
  {
   "cell_type": "code",
   "execution_count": 8,
   "metadata": {},
   "outputs": [
    {
     "name": "stdout",
     "output_type": "stream",
     "text": [
      "cadena True\n",
      "numero False\n"
     ]
    }
   ],
   "source": [
    "from collections.abc import Iterable\n",
    "cadena = 'Hola'\n",
    "numero = 3\n",
    "print('cadena', isinstance(cadena, Iterable))\n",
    "print('numero', isinstance(numero, Iterable))"
   ]
  },
  {
   "cell_type": "code",
   "execution_count": 10,
   "metadata": {},
   "outputs": [
    {
     "name": "stdout",
     "output_type": "stream",
     "text": [
      "True\n",
      "False\n"
     ]
    }
   ],
   "source": [
    "print(isinstance(cadena, str))\n",
    "print(isinstance(numero, float))"
   ]
  },
  {
   "cell_type": "code",
   "execution_count": 17,
   "metadata": {},
   "outputs": [
    {
     "name": "stdout",
     "output_type": "stream",
     "text": [
      "intanciamos obj a dentro de la clase planeta: True\n",
      "intanciamos obj a dentro de la clase rocoso: False\n",
      "intanciamos obj b dentro de la clase gaseoso: True\n",
      "intanciamos obj b dentro de la clase habitable: False\n",
      "intanciamos obj b dentro de la superclase planeta: True\n"
     ]
    }
   ],
   "source": [
    "class planeta:\n",
    "    def solar(self):\n",
    "        print('solar')\n",
    "\n",
    "class rocoso(planeta):\n",
    "    def solido(self):\n",
    "        print('solido')\n",
    "\n",
    "class gaseoso(planeta):\n",
    "    def fluido(self):\n",
    "        print('fluido')\n",
    "\n",
    "class orbita(rocoso, gaseoso):\n",
    "    def orbitales(self):\n",
    "        print('orbital')\n",
    "\n",
    "class habitable(orbita):\n",
    "    def zona_h(self):\n",
    "        print('zona')\n",
    "    \n",
    "a = planeta()  \n",
    "print('intanciamos obj a dentro de la clase planeta:',isinstance(a, planeta))\n",
    "print('intanciamos obj a dentro de la clase rocoso:',isinstance(a, rocoso))\n",
    "\n",
    "b = orbita()\n",
    "print('intanciamos obj b dentro de la clase gaseoso:',isinstance(b, gaseoso))\n",
    "print('intanciamos obj b dentro de la clase habitable:',isinstance(b, habitable))\n",
    "print('intanciamos obj b dentro de la superclase planeta:',isinstance(b, planeta))\n"
   ]
  },
  {
   "cell_type": "markdown",
   "metadata": {},
   "source": [
    "Del modulo collections importamos counter para contar elementos de un iterable(string, lista,tupla, diccionario)"
   ]
  },
  {
   "cell_type": "code",
   "execution_count": 19,
   "metadata": {},
   "outputs": [],
   "source": [
    "from collections import Counter"
   ]
  },
  {
   "cell_type": "code",
   "execution_count": 20,
   "metadata": {},
   "outputs": [
    {
     "data": {
      "text/plain": [
       "Counter({1: 4, 2: 3, 3: 2, 4: 1})"
      ]
     },
     "execution_count": 20,
     "metadata": {},
     "output_type": "execute_result"
    }
   ],
   "source": [
    "l = [1,2,3,4,1,2,3,1,2,1]\n",
    "Counter(l)"
   ]
  },
  {
   "cell_type": "code",
   "execution_count": 24,
   "metadata": {},
   "outputs": [
    {
     "data": {
      "text/plain": [
       "Counter({'mercedes': 1, 'ferrari': 2, 'bmw': 3})"
      ]
     },
     "execution_count": 24,
     "metadata": {},
     "output_type": "execute_result"
    }
   ],
   "source": [
    "# Contar palabras con la funcion split()\n",
    "coches= \"mercedes ferrari bmw bmw ferrari bmw\"\n",
    "coches.split()\n",
    "Counter(coches.split())"
   ]
  },
  {
   "cell_type": "code",
   "execution_count": 32,
   "metadata": {},
   "outputs": [],
   "source": [
    "# Almacenamos el Counter en 'c'\n",
    "c = Counter(coches.split())"
   ]
  },
  {
   "cell_type": "code",
   "execution_count": 31,
   "metadata": {},
   "outputs": [
    {
     "name": "stdout",
     "output_type": "stream",
     "text": [
      "[('bmw', 3)]\n"
     ]
    }
   ],
   "source": [
    "# Obtenemos el elemento más repetido\n",
    "print(c.most_common(1))"
   ]
  },
  {
   "cell_type": "code",
   "execution_count": 30,
   "metadata": {},
   "outputs": [
    {
     "name": "stdout",
     "output_type": "stream",
     "text": [
      "[('bmw', 3), ('ferrari', 2)]\n"
     ]
    }
   ],
   "source": [
    "# Las dos palabras más repetidas\n",
    "print(c.most_common(2))"
   ]
  }
 ],
 "metadata": {
  "interpreter": {
   "hash": "8c3d4d9970fc5c09c50d9318a9c7fbf4d0159e4b28833276f5678ee22bded273"
  },
  "kernelspec": {
   "display_name": "Python 3.10.4 64-bit",
   "language": "python",
   "name": "python3"
  },
  "language_info": {
   "codemirror_mode": {
    "name": "ipython",
    "version": 3
   },
   "file_extension": ".py",
   "mimetype": "text/x-python",
   "name": "python",
   "nbconvert_exporter": "python",
   "pygments_lexer": "ipython3",
   "version": "3.10.4"
  },
  "orig_nbformat": 4
 },
 "nbformat": 4,
 "nbformat_minor": 2
}
