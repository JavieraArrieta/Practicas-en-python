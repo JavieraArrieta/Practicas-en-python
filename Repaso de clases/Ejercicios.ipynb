{
 "cells": [
  {
   "cell_type": "markdown",
   "metadata": {},
   "source": [
    "EJERCICIO 1: Redondeo de decimales"
   ]
  },
  {
   "cell_type": "code",
   "execution_count": 1,
   "metadata": {},
   "outputs": [],
   "source": [
    "def RedondeoDeDecimales (nro, decimales):\n",
    "    '''\n",
    "    Esta funcion pide ingresar un numero racional y la cantidad de decimales a la que quiere redondearlo.\n",
    "    Verificar que el numero sea flotante.\n",
    "    '''\n",
    "    if (type(nro) != float):\n",
    "        return 'Ingrese un numero racional'\n",
    "\n",
    "    redondeado = round(nro, decimales)\n",
    "    return redondeado"
   ]
  },
  {
   "cell_type": "code",
   "execution_count": 6,
   "metadata": {},
   "outputs": [
    {
     "data": {
      "text/plain": [
       "3.29"
      ]
     },
     "execution_count": 6,
     "metadata": {},
     "output_type": "execute_result"
    }
   ],
   "source": [
    "RedondeoDeDecimales(3.28754, 2)"
   ]
  },
  {
   "cell_type": "markdown",
   "metadata": {},
   "source": [
    "EJERCICIO 2: Modificar tipos de datos\n"
   ]
  },
  {
   "cell_type": "code",
   "execution_count": 128,
   "metadata": {},
   "outputs": [],
   "source": [
    "def ModificaDatos(dato, cambio): \n",
    "    '''\n",
    "    Esta funcion pide ingresar un dato y el tipo de dato al que se quiere cambiar.\n",
    "    Si el dato es un string con letras debe dar ValueError, si sonnumeros se debe cambiar el dato\n",
    "    '''     \n",
    "    if (type(dato) == str):\n",
    "        try:\n",
    "            return (cambio(dato))\n",
    "        except ValueError as a:\n",
    "            print(a)  \n",
    "            return 9999\n",
    "                 \n",
    "    if (cambio == int):\n",
    "            return int(dato)\n",
    "    if (cambio == float):\n",
    "            return float(dato)\n",
    "    if (cambio == complex):\n",
    "            return complex(dato)\n",
    "    if (cambio == bool):\n",
    "            if (dato > 0):\n",
    "                dato = bool(dato)\n",
    "                dato = True\n",
    "                return dato\n",
    "            else:\n",
    "                dato = False\n",
    "                return dato\n",
    "    if (cambio == str):\n",
    "            return str(dato)\n"
   ]
  },
  {
   "cell_type": "code",
   "execution_count": 132,
   "metadata": {},
   "outputs": [
    {
     "name": "stdout",
     "output_type": "stream",
     "text": [
      "invalid literal for int() with base 10: 'fd'\n"
     ]
    },
    {
     "data": {
      "text/plain": [
       "9999"
      ]
     },
     "execution_count": 132,
     "metadata": {},
     "output_type": "execute_result"
    }
   ],
   "source": [
    "ModificaDatos('fd', int)"
   ]
  },
  {
   "cell_type": "markdown",
   "metadata": {},
   "source": [
    "EJERCICIO 3: Sistema de Numeracion Binario"
   ]
  },
  {
   "cell_type": "code",
   "execution_count": 49,
   "metadata": {},
   "outputs": [
    {
     "name": "stdout",
     "output_type": "stream",
     "text": [
      "16\n",
      "0b10000\n",
      "16\n"
     ]
    }
   ],
   "source": [
    "print(8<<1)  # 8*2**1\n",
    "#multiplicacion\n",
    "print(bin(16))\n",
    "print(int('10000',2))"
   ]
  },
  {
   "cell_type": "code",
   "execution_count": 59,
   "metadata": {},
   "outputs": [],
   "source": [
    "def binario_decimal(nro, tipo):\n",
    "    '''\n",
    "    Esta funcion transforma de binario a decimal y viceversa\n",
    "    '''\n",
    "    tipos = ['decimal', 'binario']\n",
    "    if not (tipo in tipos):\n",
    "        return 'ingrese si quiere transformarlo a decimal o binario'\n",
    "\n",
    "    lista = []\n",
    "    if (tipo == 'binario'):\n",
    "        if (type(nro) != int):\n",
    "            return 'ingrese un numero entero'\n",
    "        while (nro > 0):\n",
    "            binario = nro % 2\n",
    "            lista.append(str(binario))\n",
    "            nro = nro // 2\n",
    "        invierto_lista = lista[::-1]\n",
    "        cadena = ''.join(invierto_lista)\n",
    "        return cadena\n",
    "\n",
    "    if (tipo == 'decimal'):\n",
    "        if (nro % 10 > 1):\n",
    "            return 'Los nros binarios solo tiene ceros y unos'\n",
    "        n = 0\n",
    "        while (nro > 0):\n",
    "            decimal = nro % 10\n",
    "            lista.append(decimal * 2 ** n)\n",
    "            n += 1\n",
    "            nro = nro // 10\n",
    "        return sum(lista)"
   ]
  },
  {
   "cell_type": "code",
   "execution_count": 62,
   "metadata": {},
   "outputs": [
    {
     "data": {
      "text/plain": [
       "'11101'"
      ]
     },
     "execution_count": 62,
     "metadata": {},
     "output_type": "execute_result"
    }
   ],
   "source": [
    "binario_decimal(29, 'binario')"
   ]
  },
  {
   "cell_type": "markdown",
   "metadata": {},
   "source": [
    "EJERCICIO 4: Factorial"
   ]
  },
  {
   "cell_type": "code",
   "execution_count": 22,
   "metadata": {},
   "outputs": [
    {
     "data": {
      "text/plain": [
       "24"
      ]
     },
     "execution_count": 22,
     "metadata": {},
     "output_type": "execute_result"
    }
   ],
   "source": [
    "import math\n",
    "math.factorial(4)"
   ]
  },
  {
   "cell_type": "code",
   "execution_count": 23,
   "metadata": {},
   "outputs": [],
   "source": [
    "def Factorial(nro):\n",
    "    '''\n",
    "    El factorial de 4 es 4*3*2*1 = 24\n",
    "    El numero ingresado debe ser mayor a cero y debe ser entero\n",
    "    '''\n",
    "    if (nro < 0):\n",
    "        return None\n",
    "    if (type(nro) != int):\n",
    "        return None\n",
    "    cont = 1\n",
    "    while (nro > 1):\n",
    "        cont = cont * nro\n",
    "        nro -= 1\n",
    "    return cont"
   ]
  },
  {
   "cell_type": "code",
   "execution_count": 24,
   "metadata": {},
   "outputs": [
    {
     "data": {
      "text/plain": [
       "24"
      ]
     },
     "execution_count": 24,
     "metadata": {},
     "output_type": "execute_result"
    }
   ],
   "source": [
    "Factorial(4)"
   ]
  },
  {
   "cell_type": "markdown",
   "metadata": {},
   "source": [
    "EJERCICIO 5: Numeros primos"
   ]
  },
  {
   "cell_type": "code",
   "execution_count": 88,
   "metadata": {},
   "outputs": [],
   "source": [
    "def Rango_de_primos(inicio, final):\n",
    "    '''\n",
    "    Esta funcion pide que ingrese un rango de numeros y devuelve los numeros primos entre estos valores\n",
    "    '''\n",
    "    primos = []\n",
    "    if (inicio < 0):\n",
    "        return 'debe ser numeros positivos'\n",
    "    if (inicio > final):\n",
    "        return 'ingrese un rango valido'\n",
    "    \n",
    "    for i in range(inicio, final):\n",
    "        es_primo = True\n",
    "        for e in range(2, i):\n",
    "            if (i % e == 0):\n",
    "                es_primo = False\n",
    "                break\n",
    "        if(es_primo):\n",
    "            primos.append(i) \n",
    "    # Quitamos el cero y el uno porque no son primos\n",
    "    if ( 0 or 1 in primos):\n",
    "        primos.remove(0)\n",
    "        primos.remove(1)\n",
    "    return primos\n",
    "                "
   ]
  },
  {
   "cell_type": "code",
   "execution_count": 90,
   "metadata": {},
   "outputs": [
    {
     "data": {
      "text/plain": [
       "[2, 3, 5, 7]"
      ]
     },
     "execution_count": 90,
     "metadata": {},
     "output_type": "execute_result"
    }
   ],
   "source": [
    "Rango_de_primos(0,10)"
   ]
  },
  {
   "cell_type": "markdown",
   "metadata": {},
   "source": [
    "Ingresar un numero y dar la opcion de conseguir el siguiente primo"
   ]
  },
  {
   "cell_type": "code",
   "execution_count": 97,
   "metadata": {},
   "outputs": [
    {
     "name": "stdout",
     "output_type": "stream",
     "text": [
      "5 Es primo\n",
      "Desea encontrar el siguiente numero primo?\n",
      "7 Es primo\n",
      "Desea encontrar el siguiente numero primo?\n",
      "fin del proceso\n"
     ]
    }
   ],
   "source": [
    "n = int(input('ingrese un numero: '))\n",
    "sigue = 1\n",
    "primo = True\n",
    "while (sigue ==1):\n",
    "    for div in range(2, n):\n",
    "        if (n % div == 0):\n",
    "            primo = False\n",
    "            break\n",
    "    if (primo):\n",
    "        print(n,'Es primo')\n",
    "        print('Desea encontrar el siguiente numero primo?')\n",
    "        if (input() != 'si'):\n",
    "            print('fin del proceso')\n",
    "            break\n",
    "\n",
    "    else:\n",
    "        primo = True\n",
    "    n += 1\n"
   ]
  },
  {
   "cell_type": "markdown",
   "metadata": {},
   "source": [
    "EJERCICIO 6: Descripcion de personas usando zip() y for\n",
    "\n",
    "EXTRA.\n",
    "Guardar los datos en otro archivo, que sea una funcion."
   ]
  },
  {
   "cell_type": "code",
   "execution_count": 48,
   "metadata": {},
   "outputs": [
    {
     "name": "stdout",
     "output_type": "stream",
     "text": [
      "Javiera : es F y tiene 25 años.\n",
      "Franco : es M y tiene 26 años.\n",
      "Cande : es F y tiene 21 años.\n"
     ]
    }
   ],
   "source": [
    "nombre= ['Javiera', 'Franco', 'Cande']\n",
    "edad = [25, 26, 21]\n",
    "genero = ['F','M','F']\n",
    "\n",
    "for n, g, e in zip(nombre , genero, edad):\n",
    "    print(n, ':',  'es', g, 'y tiene', e, 'años.')"
   ]
  },
  {
   "cell_type": "markdown",
   "metadata": {},
   "source": [
    "EJERCICIO 7: ListaDeNotas, Ver si cada elemento cumple una condicion if()"
   ]
  },
  {
   "cell_type": "code",
   "execution_count": 1,
   "metadata": {},
   "outputs": [],
   "source": [
    "def ListaDeNotas(lista, opciones):\n",
    "    '''\n",
    "    Esta funcion pide ingresar una lista de notas y como segundo parametro tiene dos opciones:\n",
    "    La de mostar la cantidad de notas aprobadas sobre el total o mostar el promedio de todas las notas.\n",
    "    '''\n",
    "    aprobados = [i for i in lista if i > 6]\n",
    "    total = len(lista)\n",
    "    total_aprobadas = len(aprobados)\n",
    "    if(opciones == 'notas aprobadas'):\n",
    "        return (f'Se aprobaron {total_aprobadas} de {total}')\n",
    "    if (opciones == 'promedio'):\n",
    "        promedio = (sum(lista)/ total)\n",
    "        return (f'Con un promedio de {promedio}')\n",
    "    else:\n",
    "        return (f'Ingrese si quiere \"notas aprobadas\" o el \"promedio\"')\n"
   ]
  },
  {
   "cell_type": "code",
   "execution_count": 2,
   "metadata": {},
   "outputs": [
    {
     "data": {
      "text/plain": [
       "'Con un promedio de 6.076923076923077'"
      ]
     },
     "execution_count": 2,
     "metadata": {},
     "output_type": "execute_result"
    }
   ],
   "source": [
    "notas = [7,5,4,1,8,9,10,5,3,8,6,7,6]\n",
    "ListaDeNotas(notas, 'promedio')"
   ]
  },
  {
   "cell_type": "markdown",
   "metadata": {},
   "source": [
    "EJERCICIO 8: Mostras en que posicion aparecen las 'n'."
   ]
  },
  {
   "cell_type": "code",
   "execution_count": 9,
   "metadata": {},
   "outputs": [
    {
     "name": "stdout",
     "output_type": "stream",
     "text": [
      "n se encuentra en la posicion 7\n",
      "n se encuentra en la posicion 21\n",
      "n se encuentra en la posicion 39\n",
      "n se encuentra en la posicion 60\n",
      "n se encuentra en la posicion 67\n",
      "la cadena tiene 5 enes\n"
     ]
    }
   ],
   "source": [
    "cadena = 'Hola mundo. esto es una practica del lenguaje de programacion python.'\n",
    "suma = 0\n",
    "for indice,elem in enumerate(cadena):\n",
    "    if (elem == 'n'):\n",
    "        print(elem, 'se encuentra en la posicion', indice)\n",
    "        suma += 1\n",
    "print('la cadena tiene', suma, 'enes')"
   ]
  },
  {
   "cell_type": "markdown",
   "metadata": {},
   "source": [
    "EJERCICIO 9: Ordenar diccionario por clave o valor. importando operator"
   ]
  },
  {
   "cell_type": "code",
   "execution_count": 18,
   "metadata": {},
   "outputs": [],
   "source": [
    "clients = {'Aldrich': 1.97,\n",
    "           'Enrico': 8.49,\n",
    "           'Christoper': 9.79,\n",
    "           'Cherice': 8.53,\n",
    "           'Margi': 0.43}"
   ]
  },
  {
   "cell_type": "code",
   "execution_count": 22,
   "metadata": {},
   "outputs": [
    {
     "name": "stdout",
     "output_type": "stream",
     "text": [
      "DESORDENADO\n",
      "Aldrich has spend 1.97\n",
      "Enrico has spend 8.49\n",
      "Christoper has spend 9.79\n",
      "Cherice has spend 8.53\n",
      "Margi has spend 0.43\n"
     ]
    }
   ],
   "source": [
    "print('DESORDENADO')\n",
    "for name in enumerate(clients):\n",
    "    print(name[1], 'has spend', clients[name[1]])"
   ]
  },
  {
   "cell_type": "code",
   "execution_count": 23,
   "metadata": {},
   "outputs": [
    {
     "name": "stdout",
     "output_type": "stream",
     "text": [
      "ORDENADO\n",
      "Aldrich ha gastado 1.97\n",
      "Cherice ha gastado 8.53\n",
      "Christoper ha gastado 9.79\n",
      "Enrico ha gastado 8.49\n",
      "Margi ha gastado 0.43\n"
     ]
    }
   ],
   "source": [
    "print('ORDENADO')\n",
    "clients_sort = sorted(clients.items())\n",
    "for i,e in clients_sort:\n",
    "   print(i, 'ha gastado', e)"
   ]
  },
  {
   "cell_type": "code",
   "execution_count": 26,
   "metadata": {},
   "outputs": [
    {
     "name": "stdout",
     "output_type": "stream",
     "text": [
      "Margi has spend 0.43\n",
      "Enrico has spend 8.49\n",
      "Christoper has spend 9.79\n",
      "Cherice has spend 8.53\n",
      "Aldrich has spend 1.97\n"
     ]
    }
   ],
   "source": [
    "# OTRA FORMA\n",
    "import operator\n",
    "clients_sort = sorted(clients.items(), key=operator.itemgetter(0), reverse=True)\n",
    "\n",
    "for name in enumerate(clients_sort):\n",
    "    print(name[1][0], 'has spend', clients[name[1][0]]) \n"
   ]
  },
  {
   "cell_type": "markdown",
   "metadata": {},
   "source": [
    "EJERCICIO 10: Multiplicar los elementos de una lista por dos. Usando la funcion lambda()."
   ]
  },
  {
   "cell_type": "code",
   "execution_count": 28,
   "metadata": {},
   "outputs": [
    {
     "name": "stdout",
     "output_type": "stream",
     "text": [
      "[1, 4, 9, 16, 25]\n"
     ]
    }
   ],
   "source": [
    "lista = [1,2,3,4,5]\n",
    "cuadrados = list(map(lambda x : x**2 , lista))\n",
    "print(cuadrados)"
   ]
  },
  {
   "cell_type": "markdown",
   "metadata": {},
   "source": [
    "EJERCICIO 11: Distancia entre 2 puntos."
   ]
  },
  {
   "cell_type": "code",
   "execution_count": 32,
   "metadata": {},
   "outputs": [
    {
     "data": {
      "text/plain": [
       "5.0"
      ]
     },
     "execution_count": 32,
     "metadata": {},
     "output_type": "execute_result"
    }
   ],
   "source": [
    "import math\n",
    "def DistanciaEntrePuntos(x1, y1, x2, y2):\n",
    "    dx = x2 -x1\n",
    "    dy = y2 - y1\n",
    "    alcuadrado = (dx **2) + (dy **2)\n",
    "    rta = math.sqrt(alcuadrado)\n",
    "    return rta\n",
    "\n",
    "DistanciaEntrePuntos(1, 2, 4, 6)\n"
   ]
  },
  {
   "cell_type": "markdown",
   "metadata": {},
   "source": [
    "EJERCICIO 12: Area por radio y Area por puntos."
   ]
  },
  {
   "cell_type": "code",
   "execution_count": 33,
   "metadata": {},
   "outputs": [],
   "source": [
    "def Area(radio):\n",
    "    return math.pi * radio **2"
   ]
  },
  {
   "cell_type": "code",
   "execution_count": 36,
   "metadata": {},
   "outputs": [],
   "source": [
    "def Areaporptos(x1, y1, x2, y2):\n",
    "    return  Area(DistanciaEntrePuntos(x1, y1, x2, y2))\n",
    "    "
   ]
  },
  {
   "cell_type": "markdown",
   "metadata": {},
   "source": [
    "EJERCICIO 13: Pendiente, Ordenada al Origen y Funcion"
   ]
  },
  {
   "cell_type": "code",
   "execution_count": 52,
   "metadata": {},
   "outputs": [],
   "source": [
    "def pendiente(x1, y1, x2, y2):\n",
    "    dx = x2-x1\n",
    "    dy = y2-y1\n",
    "    return int(dy / dx)\n"
   ]
  },
  {
   "cell_type": "code",
   "execution_count": 56,
   "metadata": {},
   "outputs": [],
   "source": [
    "def funcion(x1, y1, x2, y2):\n",
    "    return str(pendiente(x1,y1,x2,y2))+ 'x'+str((int(-pendiente(x1, y1, x2, y2)* x1 + y1)))\n",
    "\n"
   ]
  },
  {
   "cell_type": "code",
   "execution_count": 58,
   "metadata": {},
   "outputs": [
    {
     "data": {
      "text/plain": [
       "'2x-2'"
      ]
     },
     "execution_count": 58,
     "metadata": {},
     "output_type": "execute_result"
    }
   ],
   "source": [
    "funcion(2,2,3,4)\n"
   ]
  },
  {
   "cell_type": "markdown",
   "metadata": {},
   "source": [
    "EJERCICIO 14: Crear una función que reciba un número como parámetro y devuelva True si es primo y False si no lo es\n"
   ]
  },
  {
   "cell_type": "code",
   "execution_count": 25,
   "metadata": {},
   "outputs": [
    {
     "data": {
      "text/plain": [
       "False"
      ]
     },
     "execution_count": 25,
     "metadata": {},
     "output_type": "execute_result"
    }
   ],
   "source": [
    "def Primo(nro):\n",
    "    es_primo = True\n",
    "    for i in range(2, nro):\n",
    "        if nro % i == 0:\n",
    "            es_primo = False\n",
    "            break\n",
    "    return es_primo\n",
    "\n",
    "Primo(9)"
   ]
  },
  {
   "cell_type": "markdown",
   "metadata": {},
   "source": [
    "EJERCICIO 15: Utilizando la función del punto anterior, realizar otra función que reciba de parámetro una lista de números y devuelva sólo aquellos que son primos en otra lista\n"
   ]
  },
  {
   "cell_type": "code",
   "execution_count": 28,
   "metadata": {},
   "outputs": [],
   "source": [
    "def ListaDePrimos(lista):\n",
    "    return list(filter(lambda x: Primo(x), lista))"
   ]
  },
  {
   "cell_type": "code",
   "execution_count": 29,
   "metadata": {},
   "outputs": [
    {
     "data": {
      "text/plain": [
       "[1, 2, 3, 5, 7, 11]"
      ]
     },
     "execution_count": 29,
     "metadata": {},
     "output_type": "execute_result"
    }
   ],
   "source": [
    "ListaDePrimos([1,2,3,4,5,6,7,8,9,10,11])"
   ]
  },
  {
   "cell_type": "code",
   "execution_count": 33,
   "metadata": {},
   "outputs": [
    {
     "data": {
      "text/plain": [
       "[1, 2, 3, 5, 7, 11]"
      ]
     },
     "execution_count": 33,
     "metadata": {},
     "output_type": "execute_result"
    }
   ],
   "source": [
    "def lista_de_primos(lista):\n",
    "    lista_primos = []\n",
    "    for i in lista:\n",
    "        if(Primo(i) == True):\n",
    "            lista_primos.append(i)\n",
    "    return lista_primos\n",
    "\n",
    "lista_de_primos([1,2,3,4,5,6,7,8,9,10,11])"
   ]
  },
  {
   "cell_type": "markdown",
   "metadata": {},
   "source": [
    "EJERCICIO 16: Crear una función que al recibir una lista de números, devuelva el que más se repite y cuántas veces lo hace. Si hay más de un \"más repetido\", que devuelva cualquiera\n"
   ]
  },
  {
   "cell_type": "code",
   "execution_count": 3,
   "metadata": {},
   "outputs": [],
   "source": [
    "from collections import Counter\n"
   ]
  },
  {
   "cell_type": "code",
   "execution_count": 66,
   "metadata": {},
   "outputs": [],
   "source": [
    "def ValorModal(lista):\n",
    "    cadena = \",\".join([str(_) for _ in lista])\n",
    "    print(cadena)\n",
    "    from collections import Counter\n",
    "    c = Counter(cadena.split(','))\n",
    "    return c.most_common(1)\n",
    "     \n"
   ]
  },
  {
   "cell_type": "code",
   "execution_count": 67,
   "metadata": {},
   "outputs": [
    {
     "name": "stdout",
     "output_type": "stream",
     "text": [
      "1,2,3,2,2,5\n"
     ]
    },
    {
     "data": {
      "text/plain": [
       "[('2', 3)]"
      ]
     },
     "execution_count": 67,
     "metadata": {},
     "output_type": "execute_result"
    }
   ],
   "source": [
    "\n",
    "ValorModal([1,2,3,2,2,5])"
   ]
  }
 ],
 "metadata": {
  "interpreter": {
   "hash": "8c3d4d9970fc5c09c50d9318a9c7fbf4d0159e4b28833276f5678ee22bded273"
  },
  "kernelspec": {
   "display_name": "Python 3.10.4 64-bit",
   "language": "python",
   "name": "python3"
  },
  "language_info": {
   "codemirror_mode": {
    "name": "ipython",
    "version": 3
   },
   "file_extension": ".py",
   "mimetype": "text/x-python",
   "name": "python",
   "nbconvert_exporter": "python",
   "pygments_lexer": "ipython3",
   "version": "3.10.8 (tags/v3.10.8:aaaf517, Oct 11 2022, 16:50:30) [MSC v.1933 64 bit (AMD64)]"
  },
  "orig_nbformat": 4
 },
 "nbformat": 4,
 "nbformat_minor": 2
}
