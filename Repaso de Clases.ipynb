{
 "cells": [
  {
   "cell_type": "markdown",
   "metadata": {},
   "source": [
    "Ingresar un numero racional (float) y redondearlo a la cantidad de decimales deseado."
   ]
  },
  {
   "cell_type": "code",
   "execution_count": 1,
   "metadata": {},
   "outputs": [],
   "source": [
    "def RedondeoDeDecimales (nro, decimales):\n",
    "    '''\n",
    "    Esta funcion pide ingresar un numero racional y la cantidad de decimales a la que quiere redondearlo.\n",
    "    Verificar que el numero sea flotante.\n",
    "    '''\n",
    "    if (type(nro) != float):\n",
    "        return 'Ingrese un numero racional'\n",
    "\n",
    "    redondeado = round(nro, decimales)\n",
    "    return redondeado"
   ]
  },
  {
   "cell_type": "code",
   "execution_count": 6,
   "metadata": {},
   "outputs": [
    {
     "data": {
      "text/plain": [
       "3.29"
      ]
     },
     "execution_count": 6,
     "metadata": {},
     "output_type": "execute_result"
    }
   ],
   "source": [
    "RedondeoDeDecimales(3.28754, 2)"
   ]
  },
  {
   "cell_type": "markdown",
   "metadata": {},
   "source": [
    "Modificar un dato.\n"
   ]
  },
  {
   "cell_type": "code",
   "execution_count": 47,
   "metadata": {},
   "outputs": [],
   "source": [
    "def ModificaDatos(dato, cambio):\n",
    "    if (dato == str):\n",
    "        dato = 1\n",
    "        raise ValueError('Debe ser un numero')\n",
    "\n",
    "    if (cambio == int):\n",
    "        return int(dato)\n",
    "    if (cambio == str):\n",
    "        return str(dato)\n",
    "        \n",
    "    if (cambio == complex):\n",
    "        return complex(dato)\n",
    "    if (cambio == float):\n",
    "        return float(dato)\n",
    "    if (cambio == bool):\n",
    "        if(dato > 0):\n",
    "            dato = bool(dato)\n",
    "            dato = True\n",
    "        else:\n",
    "            dato = False\n",
    "        return dato\n",
    "    \n",
    "\n",
    "\n",
    "\n"
   ]
  },
  {
   "cell_type": "code",
   "execution_count": 48,
   "metadata": {},
   "outputs": [
    {
     "ename": "ValueError",
     "evalue": "could not convert string to float: 're'",
     "output_type": "error",
     "traceback": [
      "\u001b[1;31m---------------------------------------------------------------------------\u001b[0m",
      "\u001b[1;31mValueError\u001b[0m                                Traceback (most recent call last)",
      "\u001b[1;32mc:\\Users\\Lenovo\\Desktop\\HENRY\\Practicas en python\\Repaso de Clases.ipynb Cell 6'\u001b[0m in \u001b[0;36m<cell line: 1>\u001b[1;34m()\u001b[0m\n\u001b[1;32m----> <a href='vscode-notebook-cell:/c%3A/Users/Lenovo/Desktop/HENRY/Practicas%20en%20python/Repaso%20de%20Clases.ipynb#ch0000006?line=0'>1</a>\u001b[0m ModificaDatos(\u001b[39m'\u001b[39;49m\u001b[39mre\u001b[39;49m\u001b[39m'\u001b[39;49m, \u001b[39mfloat\u001b[39;49m)\n",
      "\u001b[1;32mc:\\Users\\Lenovo\\Desktop\\HENRY\\Practicas en python\\Repaso de Clases.ipynb Cell 5'\u001b[0m in \u001b[0;36mModificaDatos\u001b[1;34m(dato, cambio)\u001b[0m\n\u001b[0;32m     <a href='vscode-notebook-cell:/c%3A/Users/Lenovo/Desktop/HENRY/Practicas%20en%20python/Repaso%20de%20Clases.ipynb#ch0000004?line=11'>12</a>\u001b[0m     \u001b[39mreturn\u001b[39;00m \u001b[39mcomplex\u001b[39m(dato)\n\u001b[0;32m     <a href='vscode-notebook-cell:/c%3A/Users/Lenovo/Desktop/HENRY/Practicas%20en%20python/Repaso%20de%20Clases.ipynb#ch0000004?line=12'>13</a>\u001b[0m \u001b[39mif\u001b[39;00m (cambio \u001b[39m==\u001b[39m \u001b[39mfloat\u001b[39m):\n\u001b[1;32m---> <a href='vscode-notebook-cell:/c%3A/Users/Lenovo/Desktop/HENRY/Practicas%20en%20python/Repaso%20de%20Clases.ipynb#ch0000004?line=13'>14</a>\u001b[0m     \u001b[39mreturn\u001b[39;00m \u001b[39mfloat\u001b[39;49m(dato)\n\u001b[0;32m     <a href='vscode-notebook-cell:/c%3A/Users/Lenovo/Desktop/HENRY/Practicas%20en%20python/Repaso%20de%20Clases.ipynb#ch0000004?line=14'>15</a>\u001b[0m \u001b[39mif\u001b[39;00m (cambio \u001b[39m==\u001b[39m \u001b[39mbool\u001b[39m):\n\u001b[0;32m     <a href='vscode-notebook-cell:/c%3A/Users/Lenovo/Desktop/HENRY/Practicas%20en%20python/Repaso%20de%20Clases.ipynb#ch0000004?line=15'>16</a>\u001b[0m     \u001b[39mif\u001b[39;00m(dato \u001b[39m>\u001b[39m \u001b[39m0\u001b[39m):\n",
      "\u001b[1;31mValueError\u001b[0m: could not convert string to float: 're'"
     ]
    }
   ],
   "source": [
    "ModificaDatos('re', float)"
   ]
  }
 ],
 "metadata": {
  "interpreter": {
   "hash": "8c3d4d9970fc5c09c50d9318a9c7fbf4d0159e4b28833276f5678ee22bded273"
  },
  "kernelspec": {
   "display_name": "Python 3.10.4 64-bit",
   "language": "python",
   "name": "python3"
  },
  "language_info": {
   "codemirror_mode": {
    "name": "ipython",
    "version": 3
   },
   "file_extension": ".py",
   "mimetype": "text/x-python",
   "name": "python",
   "nbconvert_exporter": "python",
   "pygments_lexer": "ipython3",
   "version": "3.10.4"
  },
  "orig_nbformat": 4
 },
 "nbformat": 4,
 "nbformat_minor": 2
}
