{
 "cells": [
  {
   "cell_type": "markdown",
   "metadata": {},
   "source": [
    "Ingresar un numero racional (float) y redondearlo a la cantidad de decimales deseado."
   ]
  },
  {
   "cell_type": "code",
   "execution_count": 1,
   "metadata": {},
   "outputs": [],
   "source": [
    "def RedondeoDeDecimales (nro, decimales):\n",
    "    '''\n",
    "    Esta funcion pide ingresar un numero racional y la cantidad de decimales a la que quiere redondearlo.\n",
    "    Verificar que el numero sea flotante.\n",
    "    '''\n",
    "    if (type(nro) != float):\n",
    "        return 'Ingrese un numero racional'\n",
    "\n",
    "    redondeado = round(nro, decimales)\n",
    "    return redondeado"
   ]
  },
  {
   "cell_type": "code",
   "execution_count": 6,
   "metadata": {},
   "outputs": [
    {
     "data": {
      "text/plain": [
       "3.29"
      ]
     },
     "execution_count": 6,
     "metadata": {},
     "output_type": "execute_result"
    }
   ],
   "source": [
    "RedondeoDeDecimales(3.28754, 2)"
   ]
  },
  {
   "cell_type": "markdown",
   "metadata": {},
   "source": [
    "Modificar un dato.\n"
   ]
  },
  {
   "cell_type": "code",
   "execution_count": 128,
   "metadata": {},
   "outputs": [],
   "source": [
    "def ModificaDatos(dato, cambio): \n",
    "    '''\n",
    "    Esta funcion pide ingresar un dato y el tipo de dato al que se quiere cambiar.\n",
    "    Si el dato es un string con letras debe dar ValueError, si sonnumeros se debe cambiar el dato\n",
    "    '''     \n",
    "    if (type(dato) == str):\n",
    "        try:\n",
    "            return (cambio(dato))\n",
    "        except ValueError as a:\n",
    "            print(a)  \n",
    "            return 9999\n",
    "                 \n",
    "    if (cambio == int):\n",
    "            return int(dato)\n",
    "    if (cambio == float):\n",
    "            return float(dato)\n",
    "    if (cambio == complex):\n",
    "            return complex(dato)\n",
    "    if (cambio == bool):\n",
    "            if (dato > 0):\n",
    "                dato = bool(dato)\n",
    "                dato = True\n",
    "                return dato\n",
    "            else:\n",
    "                dato = False\n",
    "                return dato\n",
    "    if (cambio == str):\n",
    "            return str(dato)\n"
   ]
  },
  {
   "cell_type": "code",
   "execution_count": 132,
   "metadata": {},
   "outputs": [
    {
     "name": "stdout",
     "output_type": "stream",
     "text": [
      "invalid literal for int() with base 10: 'fd'\n"
     ]
    },
    {
     "data": {
      "text/plain": [
       "9999"
      ]
     },
     "execution_count": 132,
     "metadata": {},
     "output_type": "execute_result"
    }
   ],
   "source": [
    "ModificaDatos('fd', int)"
   ]
  },
  {
   "cell_type": "markdown",
   "metadata": {},
   "source": [
    "Sistema de Numeracion Binario"
   ]
  },
  {
   "cell_type": "code",
   "execution_count": 49,
   "metadata": {},
   "outputs": [
    {
     "name": "stdout",
     "output_type": "stream",
     "text": [
      "16\n",
      "0b10000\n",
      "16\n"
     ]
    }
   ],
   "source": [
    "print(8<<1)  # 8*2**1\n",
    "#multiplicacion\n",
    "print(bin(16))\n",
    "print(int('10000',2))"
   ]
  },
  {
   "cell_type": "code",
   "execution_count": 133,
   "metadata": {},
   "outputs": [],
   "source": [
    "def binario_decimal(nro, tipo):\n",
    "    '''\n",
    "    Esta funcion transforma de binario a decimal y viceversa\n",
    "    '''\n",
    "    tipos = ['decimal', 'binario']\n",
    "    if not (tipo in tipos):\n",
    "        return 'ingrese si quiere transformarlo a decimal o binario'\n",
    "\n",
    "    lista = []\n",
    "    if (tipo == 'binario'):\n",
    "        if (type(nro) != int):\n",
    "            return 'ingrese un numero entero'\n",
    "        while (nro > 0):\n",
    "            binario = nro % 2\n",
    "            lista.append(str(binario))\n",
    "            nro = nro // 2\n",
    "        invierto_lista = lista[::-1]\n",
    "        cadena = ''.join(invierto_lista)\n",
    "        return cadena\n",
    "\n",
    "    if (tipo == 'decimal'):\n",
    "        if (nro % 10 > 1):\n",
    "            return 'Los nros binarios solo tiene ceros y unos'\n",
    "        n = 0\n",
    "        while (nro > 0):\n",
    "            decimal = nro % 10\n",
    "            lista.append(decimal * 2 ** n)\n",
    "            n += 1\n",
    "            nro = nro // 10\n",
    "        return sum(lista)"
   ]
  },
  {
   "cell_type": "code",
   "execution_count": 126,
   "metadata": {},
   "outputs": [
    {
     "data": {
      "text/plain": [
       "3"
      ]
     },
     "execution_count": 126,
     "metadata": {},
     "output_type": "execute_result"
    }
   ],
   "source": [
    "binario_decimal(11, 'decimal')"
   ]
  }
 ],
 "metadata": {
  "interpreter": {
   "hash": "8c3d4d9970fc5c09c50d9318a9c7fbf4d0159e4b28833276f5678ee22bded273"
  },
  "kernelspec": {
   "display_name": "Python 3.10.4 64-bit",
   "language": "python",
   "name": "python3"
  },
  "language_info": {
   "codemirror_mode": {
    "name": "ipython",
    "version": 3
   },
   "file_extension": ".py",
   "mimetype": "text/x-python",
   "name": "python",
   "nbconvert_exporter": "python",
   "pygments_lexer": "ipython3",
   "version": "3.10.4"
  },
  "orig_nbformat": 4
 },
 "nbformat": 4,
 "nbformat_minor": 2
}
