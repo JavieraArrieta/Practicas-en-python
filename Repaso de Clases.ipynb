{
 "cells": [
  {
   "cell_type": "markdown",
   "metadata": {},
   "source": [
    "EJERCICIO 1: Redondeo de decimales"
   ]
  },
  {
   "cell_type": "code",
   "execution_count": 1,
   "metadata": {},
   "outputs": [],
   "source": [
    "def RedondeoDeDecimales (nro, decimales):\n",
    "    '''\n",
    "    Esta funcion pide ingresar un numero racional y la cantidad de decimales a la que quiere redondearlo.\n",
    "    Verificar que el numero sea flotante.\n",
    "    '''\n",
    "    if (type(nro) != float):\n",
    "        return 'Ingrese un numero racional'\n",
    "\n",
    "    redondeado = round(nro, decimales)\n",
    "    return redondeado"
   ]
  },
  {
   "cell_type": "code",
   "execution_count": 6,
   "metadata": {},
   "outputs": [
    {
     "data": {
      "text/plain": [
       "3.29"
      ]
     },
     "execution_count": 6,
     "metadata": {},
     "output_type": "execute_result"
    }
   ],
   "source": [
    "RedondeoDeDecimales(3.28754, 2)"
   ]
  },
  {
   "cell_type": "markdown",
   "metadata": {},
   "source": [
    "EJERCICIO 2: Modificar tipos de datos\n"
   ]
  },
  {
   "cell_type": "code",
   "execution_count": 128,
   "metadata": {},
   "outputs": [],
   "source": [
    "def ModificaDatos(dato, cambio): \n",
    "    '''\n",
    "    Esta funcion pide ingresar un dato y el tipo de dato al que se quiere cambiar.\n",
    "    Si el dato es un string con letras debe dar ValueError, si sonnumeros se debe cambiar el dato\n",
    "    '''     \n",
    "    if (type(dato) == str):\n",
    "        try:\n",
    "            return (cambio(dato))\n",
    "        except ValueError as a:\n",
    "            print(a)  \n",
    "            return 9999\n",
    "                 \n",
    "    if (cambio == int):\n",
    "            return int(dato)\n",
    "    if (cambio == float):\n",
    "            return float(dato)\n",
    "    if (cambio == complex):\n",
    "            return complex(dato)\n",
    "    if (cambio == bool):\n",
    "            if (dato > 0):\n",
    "                dato = bool(dato)\n",
    "                dato = True\n",
    "                return dato\n",
    "            else:\n",
    "                dato = False\n",
    "                return dato\n",
    "    if (cambio == str):\n",
    "            return str(dato)\n"
   ]
  },
  {
   "cell_type": "code",
   "execution_count": 132,
   "metadata": {},
   "outputs": [
    {
     "name": "stdout",
     "output_type": "stream",
     "text": [
      "invalid literal for int() with base 10: 'fd'\n"
     ]
    },
    {
     "data": {
      "text/plain": [
       "9999"
      ]
     },
     "execution_count": 132,
     "metadata": {},
     "output_type": "execute_result"
    }
   ],
   "source": [
    "ModificaDatos('fd', int)"
   ]
  },
  {
   "cell_type": "markdown",
   "metadata": {},
   "source": [
    "EJERCICIO 3: Sistema de Numeracion Binario"
   ]
  },
  {
   "cell_type": "code",
   "execution_count": 49,
   "metadata": {},
   "outputs": [
    {
     "name": "stdout",
     "output_type": "stream",
     "text": [
      "16\n",
      "0b10000\n",
      "16\n"
     ]
    }
   ],
   "source": [
    "print(8<<1)  # 8*2**1\n",
    "#multiplicacion\n",
    "print(bin(16))\n",
    "print(int('10000',2))"
   ]
  },
  {
   "cell_type": "code",
   "execution_count": 133,
   "metadata": {},
   "outputs": [],
   "source": [
    "def binario_decimal(nro, tipo):\n",
    "    '''\n",
    "    Esta funcion transforma de binario a decimal y viceversa\n",
    "    '''\n",
    "    tipos = ['decimal', 'binario']\n",
    "    if not (tipo in tipos):\n",
    "        return 'ingrese si quiere transformarlo a decimal o binario'\n",
    "\n",
    "    lista = []\n",
    "    if (tipo == 'binario'):\n",
    "        if (type(nro) != int):\n",
    "            return 'ingrese un numero entero'\n",
    "        while (nro > 0):\n",
    "            binario = nro % 2\n",
    "            lista.append(str(binario))\n",
    "            nro = nro // 2\n",
    "        invierto_lista = lista[::-1]\n",
    "        cadena = ''.join(invierto_lista)\n",
    "        return cadena\n",
    "\n",
    "    if (tipo == 'decimal'):\n",
    "        if (nro % 10 > 1):\n",
    "            return 'Los nros binarios solo tiene ceros y unos'\n",
    "        n = 0\n",
    "        while (nro > 0):\n",
    "            decimal = nro % 10\n",
    "            lista.append(decimal * 2 ** n)\n",
    "            n += 1\n",
    "            nro = nro // 10\n",
    "        return sum(lista)"
   ]
  },
  {
   "cell_type": "code",
   "execution_count": 126,
   "metadata": {},
   "outputs": [
    {
     "data": {
      "text/plain": [
       "3"
      ]
     },
     "execution_count": 126,
     "metadata": {},
     "output_type": "execute_result"
    }
   ],
   "source": [
    "binario_decimal(11, 'decimal')"
   ]
  },
  {
   "cell_type": "markdown",
   "metadata": {},
   "source": [
    "EJERCICIO 4: Factorial"
   ]
  },
  {
   "cell_type": "code",
   "execution_count": 22,
   "metadata": {},
   "outputs": [
    {
     "data": {
      "text/plain": [
       "24"
      ]
     },
     "execution_count": 22,
     "metadata": {},
     "output_type": "execute_result"
    }
   ],
   "source": [
    "import math\n",
    "math.factorial(4)"
   ]
  },
  {
   "cell_type": "code",
   "execution_count": 23,
   "metadata": {},
   "outputs": [],
   "source": [
    "def Factorial(nro):\n",
    "    '''\n",
    "    El factorial de 4 es 4*3*2*1 = 24\n",
    "    El numero ingresado debe ser mayor a cero y debe ser entero\n",
    "    '''\n",
    "    if (nro < 0):\n",
    "        return None\n",
    "    if (type(nro) != int):\n",
    "        return None\n",
    "    cont = 1\n",
    "    while (nro > 1):\n",
    "        cont = cont * nro\n",
    "        nro -= 1\n",
    "    return cont"
   ]
  },
  {
   "cell_type": "code",
   "execution_count": 24,
   "metadata": {},
   "outputs": [
    {
     "data": {
      "text/plain": [
       "24"
      ]
     },
     "execution_count": 24,
     "metadata": {},
     "output_type": "execute_result"
    }
   ],
   "source": [
    "Factorial(4)"
   ]
  },
  {
   "cell_type": "markdown",
   "metadata": {},
   "source": [
    "EJERCICIO 5: Numeros primos"
   ]
  },
  {
   "cell_type": "code",
   "execution_count": 88,
   "metadata": {},
   "outputs": [],
   "source": [
    "def Rango_de_primos(inicio, final):\n",
    "    '''\n",
    "    Esta funcion pide que ingrese un rango de numeros y devuelve los numeros primos entre estos valores\n",
    "    '''\n",
    "    primos = []\n",
    "    if (inicio < 0):\n",
    "        return 'debe ser numeros positivos'\n",
    "    if (inicio > final):\n",
    "        return 'ingrese un rango valido'\n",
    "    \n",
    "    for i in range(inicio, final):\n",
    "        es_primo = True\n",
    "        for e in range(2, i):\n",
    "            if (i % e == 0):\n",
    "                es_primo = False\n",
    "                break\n",
    "        if(es_primo):\n",
    "            primos.append(i) \n",
    "    # Quitamos el cero y el uno porque no son primos\n",
    "    if ( 0 or 1 in primos):\n",
    "        primos.remove(0)\n",
    "        primos.remove(1)\n",
    "    return primos\n",
    "                "
   ]
  },
  {
   "cell_type": "code",
   "execution_count": 90,
   "metadata": {},
   "outputs": [
    {
     "data": {
      "text/plain": [
       "[2, 3, 5, 7]"
      ]
     },
     "execution_count": 90,
     "metadata": {},
     "output_type": "execute_result"
    }
   ],
   "source": [
    "Rango_de_primos(0,10)"
   ]
  },
  {
   "cell_type": "markdown",
   "metadata": {},
   "source": [
    "Ingresar un numero y dar la opcion de conseguir el siguiente primo"
   ]
  },
  {
   "cell_type": "code",
   "execution_count": 97,
   "metadata": {},
   "outputs": [
    {
     "name": "stdout",
     "output_type": "stream",
     "text": [
      "5 Es primo\n",
      "Desea encontrar el siguiente numero primo?\n",
      "7 Es primo\n",
      "Desea encontrar el siguiente numero primo?\n",
      "fin del proceso\n"
     ]
    }
   ],
   "source": [
    "n = int(input('ingrese un numero: '))\n",
    "sigue = 1\n",
    "primo = True\n",
    "while (sigue ==1):\n",
    "    for div in range(2, n):\n",
    "        if (n % div == 0):\n",
    "            primo = False\n",
    "            break\n",
    "    if (primo):\n",
    "        print(n,'Es primo')\n",
    "        print('Desea encontrar el siguiente numero primo?')\n",
    "        if (input() != 'si'):\n",
    "            print('fin del proceso')\n",
    "            break\n",
    "\n",
    "    else:\n",
    "        primo = True\n",
    "    n += 1\n"
   ]
  },
  {
   "cell_type": "code",
   "execution_count": 7,
   "metadata": {},
   "outputs": [],
   "source": [
    "def VerTalles(talles, nro, opcion):\n",
    "    '''\n",
    "    Esta funcion pide el numero de talle \n",
    "    y tiene la opcion de buscar si esta ese talle disposible o si se quiere agregar un nuevo talle\n",
    "    '''\n",
    "    \n",
    "    opciones = ['buscar', 'agregar']\n",
    "    if (opcion == 'buscar'):\n",
    "        if (nro in talles):\n",
    "            cantidad = talles.count(nro)\n",
    "            print('quedan', cantidad)\n",
    "            pregunta = input('Si se vendio ingrese si, sino no.')\n",
    "            if (pregunta == 'si'):\n",
    "                talles.remove(nro)\n",
    "                return talles\n",
    "        else:\n",
    "            return 'no hay talle'\n",
    "\n",
    "\n"
   ]
  },
  {
   "cell_type": "code",
   "execution_count": 10,
   "metadata": {},
   "outputs": [
    {
     "name": "stdout",
     "output_type": "stream",
     "text": [
      "quedan 1\n"
     ]
    },
    {
     "data": {
      "text/plain": [
       "[25, 27, 27, 30, 31, 33, 35, 36, 36, 38, 38, 41, 43, 44]"
      ]
     },
     "execution_count": 10,
     "metadata": {},
     "output_type": "execute_result"
    }
   ],
   "source": [
    "talles = [25,27,27,30,31,33,35,36,36,38,38,40,41,43,44]\n",
    "VerTalles(talles, 40, 'buscar')"
   ]
  }
 ],
 "metadata": {
  "interpreter": {
   "hash": "8c3d4d9970fc5c09c50d9318a9c7fbf4d0159e4b28833276f5678ee22bded273"
  },
  "kernelspec": {
   "display_name": "Python 3.10.4 64-bit",
   "language": "python",
   "name": "python3"
  },
  "language_info": {
   "codemirror_mode": {
    "name": "ipython",
    "version": 3
   },
   "file_extension": ".py",
   "mimetype": "text/x-python",
   "name": "python",
   "nbconvert_exporter": "python",
   "pygments_lexer": "ipython3",
   "version": "3.10.4"
  },
  "orig_nbformat": 4
 },
 "nbformat": 4,
 "nbformat_minor": 2
}
